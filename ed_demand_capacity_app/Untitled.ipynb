{
 "cells": [
  {
   "cell_type": "code",
   "execution_count": 1,
   "id": "8566ac08",
   "metadata": {},
   "outputs": [],
   "source": [
    "import pandas as pd\n",
    "import plotly.express as px\n",
    "from datetime import datetime"
   ]
  },
  {
   "cell_type": "markdown",
   "id": "99cde01b",
   "metadata": {},
   "source": [
    "# Import data from record format"
   ]
  },
  {
   "cell_type": "code",
   "execution_count": null,
   "id": "3f00cfea",
   "metadata": {},
   "outputs": [],
   "source": [
    "with open('test_data_5jTPCpX.csv') as f:\n",
    "    ncols = len(f.readline().split(','))\n",
    "\n",
    "imported = pd.read_csv('test_data_5jTPCpX.csv', usecols=range(2, ncols))"
   ]
  },
  {
   "cell_type": "code",
   "execution_count": null,
   "id": "c43b32c9",
   "metadata": {},
   "outputs": [],
   "source": [
    "imported['arrival_time'] = pd.to_datetime(imported['arrival_time'])"
   ]
  },
  {
   "cell_type": "code",
   "execution_count": null,
   "id": "42e07038",
   "metadata": {},
   "outputs": [],
   "source": [
    "grouped = imported.groupby(['date', 'hour', 'stream']).count()[['nhs_number']].reset_index()"
   ]
  },
  {
   "cell_type": "code",
   "execution_count": null,
   "id": "d18517a8",
   "metadata": {},
   "outputs": [],
   "source": [
    "grouped['date_time'] = pd.to_datetime(grouped.date + ':' + grouped.hour.astype('str'), format='%Y-%m-%d:%H')"
   ]
  },
  {
   "cell_type": "code",
   "execution_count": null,
   "id": "a14d979e",
   "metadata": {},
   "outputs": [],
   "source": [
    "grouped = grouped[['date_time', 'stream', 'nhs_number']]"
   ]
  },
  {
   "cell_type": "code",
   "execution_count": null,
   "id": "cbf6161d",
   "metadata": {},
   "outputs": [],
   "source": []
  }
 ],
 "metadata": {
  "kernelspec": {
   "display_name": "Python 3",
   "language": "python",
   "name": "python3"
  },
  "language_info": {
   "codemirror_mode": {
    "name": "ipython",
    "version": 3
   },
   "file_extension": ".py",
   "mimetype": "text/x-python",
   "name": "python",
   "nbconvert_exporter": "python",
   "pygments_lexer": "ipython3",
   "version": "3.8.5"
  },
  "toc": {
   "base_numbering": 1,
   "nav_menu": {},
   "number_sections": true,
   "sideBar": true,
   "skip_h1_title": false,
   "title_cell": "Table of Contents",
   "title_sidebar": "Contents",
   "toc_cell": false,
   "toc_position": {},
   "toc_section_display": true,
   "toc_window_display": false
  },
  "varInspector": {
   "cols": {
    "lenName": 16,
    "lenType": 16,
    "lenVar": 40
   },
   "kernels_config": {
    "python": {
     "delete_cmd_postfix": "",
     "delete_cmd_prefix": "del ",
     "library": "var_list.py",
     "varRefreshCmd": "print(var_dic_list())"
    },
    "r": {
     "delete_cmd_postfix": ") ",
     "delete_cmd_prefix": "rm(",
     "library": "var_list.r",
     "varRefreshCmd": "cat(var_dic_list()) "
    }
   },
   "types_to_exclude": [
    "module",
    "function",
    "builtin_function_or_method",
    "instance",
    "_Feature"
   ],
   "window_display": false
  }
 },
 "nbformat": 4,
 "nbformat_minor": 5
}
