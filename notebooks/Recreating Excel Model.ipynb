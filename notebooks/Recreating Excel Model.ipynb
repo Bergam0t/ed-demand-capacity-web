{
 "cells": [
  {
   "cell_type": "code",
   "metadata": {
    "tags": [],
    "cell_id": "00000-11ba23ac-e105-4b77-8cee-0abddb3cd6f6",
    "deepnote_to_be_reexecuted": false,
    "source_hash": "91fc9c45",
    "execution_start": 1626128312361,
    "execution_millis": 115112,
    "output_cleared": true,
    "deepnote_cell_type": "code"
   },
   "source": "!pip install prophet==1.0.1",
   "execution_count": null,
   "outputs": []
  },
  {
   "cell_type": "code",
   "metadata": {
    "tags": [],
    "cell_id": "00000-e281539c-ba9e-4fdd-94c2-3eca6b12e086",
    "deepnote_to_be_reexecuted": false,
    "source_hash": "d9a85019",
    "execution_start": 1626128427480,
    "execution_millis": 1577,
    "output_cleared": true,
    "deepnote_cell_type": "code"
   },
   "source": "# Standard imports\nimport pandas as pd\nimport math\nfrom datetime import datetime, timedelta\nimport numpy as np\nimport sys\n\n# Prophet imports\nfrom prophet import Prophet\nfrom prophet.plot import (plot_plotly, plot_components_plotly, \n                           plot_forecast_component)\nfrom prophet.diagnostics import cross_validation, performance_metrics\nfrom prophet.plot import plot_cross_validation_metric\n\n# Plotting imports\nimport plotly.express as px\nimport matplotlib.pyplot as plt\nimport plotly.graph_objects as go\nimport textwrap\n",
   "execution_count": null,
   "outputs": []
  },
  {
   "cell_type": "code",
   "metadata": {
    "tags": [],
    "cell_id": "00001-135536ad-c085-4658-b804-cac01eb55605",
    "deepnote_to_be_reexecuted": false,
    "source_hash": "6b0c9635",
    "execution_start": 1626128429065,
    "execution_millis": 346,
    "output_cleared": true,
    "deepnote_cell_type": "code"
   },
   "source": "# Import data\nimported = pd.read_csv('SO test data.csv')\nimported.head()",
   "execution_count": null,
   "outputs": []
  },
  {
   "cell_type": "code",
   "metadata": {
    "tags": [],
    "cell_id": "00004-df5193b6-a7d0-4e10-af61-b3c53a10b513",
    "deepnote_to_be_reexecuted": false,
    "source_hash": "75956e24",
    "execution_start": 1626128429408,
    "execution_millis": 11,
    "output_cleared": true,
    "deepnote_cell_type": "code"
   },
   "source": "# Rename columns for easier working with\nARRIVAL_COLUMN_NAME = 'Arrival Date/Time'\nSTREAM_COLUMN_NAME = \"Stream\"\n\nimported = imported.rename({ARRIVAL_COLUMN_NAME: 'arrival_time', \n                            STREAM_COLUMN_NAME: \"stream\"}, \n                            axis=1)\n\n# Add a column with no data that can just be used for counts\nimported[\"dummy\"] = 1",
   "execution_count": null,
   "outputs": []
  },
  {
   "cell_type": "code",
   "metadata": {
    "tags": [],
    "cell_id": "00004-7c8bad2e-6085-4489-9c60-be796017e0a9",
    "deepnote_to_be_reexecuted": false,
    "source_hash": "322c0f8e",
    "execution_start": 1626128429449,
    "execution_millis": 10,
    "output_cleared": true,
    "deepnote_cell_type": "code"
   },
   "source": "imported.head()",
   "execution_count": null,
   "outputs": []
  },
  {
   "cell_type": "code",
   "metadata": {
    "tags": [],
    "cell_id": "00002-2e38710d-6015-4fbd-b1ef-a62274694225",
    "deepnote_to_be_reexecuted": false,
    "source_hash": "bf98caf",
    "execution_start": 1626128429497,
    "execution_millis": 1563,
    "output_cleared": true,
    "deepnote_cell_type": "code"
   },
   "source": "imported['arrival_time'] = pd.to_datetime(imported['arrival_time'], format=\"%d/%m/%Y %H:%M\")",
   "execution_count": null,
   "outputs": []
  },
  {
   "cell_type": "code",
   "metadata": {
    "tags": [],
    "cell_id": "00006-5bf204f6-8b1e-47b0-b9f2-3b5f54ce17ec",
    "deepnote_to_be_reexecuted": false,
    "source_hash": "fc17162",
    "execution_start": 1626128431196,
    "execution_millis": 29,
    "output_cleared": true,
    "deepnote_cell_type": "code"
   },
   "source": "imported['date'] = imported['arrival_time'].dt.date\nimported['hour'] = imported['arrival_time'].dt.hour",
   "execution_count": null,
   "outputs": []
  },
  {
   "cell_type": "code",
   "metadata": {
    "tags": [],
    "cell_id": "00003-1b67160f-0555-4b8a-bf2f-104fe0c734a2",
    "deepnote_to_be_reexecuted": false,
    "source_hash": "a0396413",
    "execution_start": 1626128431234,
    "execution_millis": 402,
    "output_cleared": true,
    "deepnote_cell_type": "code"
   },
   "source": "grouped = (\n    imported.groupby(['date', 'hour', 'stream'])\n    .count()[['dummy']]\n    .reset_index()\n)\n\ngrouped",
   "execution_count": null,
   "outputs": []
  },
  {
   "cell_type": "code",
   "metadata": {
    "tags": [],
    "cell_id": "00007-8c4cf974-ef9f-491e-bb71-44d151e75231",
    "deepnote_to_be_reexecuted": false,
    "source_hash": "2d9d4c32",
    "execution_start": 1626128431633,
    "execution_millis": 480,
    "output_cleared": true,
    "deepnote_cell_type": "code"
   },
   "source": "# Add a datetime column for the hour of arrival\n# Ensure it's a datetime object rather than \n# a string\ngrouped['date_time_hour_start'] = (\n    pd.to_datetime(grouped.date.astype('str') \n                   + ':' \n                   + grouped.hour.astype('str'), \n                   format='%Y-%m-%d:%H')\n)",
   "execution_count": null,
   "outputs": []
  },
  {
   "cell_type": "code",
   "metadata": {
    "tags": [],
    "cell_id": "00008-f7a48e72-503d-4fc0-889c-58650b270ee8",
    "deepnote_to_be_reexecuted": false,
    "source_hash": "8bf04ffd",
    "execution_start": 1626128432121,
    "execution_millis": 431,
    "output_cleared": true,
    "deepnote_cell_type": "code"
   },
   "source": "# Select a subset of columns\ngrouped = grouped[['date_time_hour_start', 'stream', 'dummy']]\n\ngrouped",
   "execution_count": null,
   "outputs": []
  },
  {
   "cell_type": "code",
   "metadata": {
    "tags": [],
    "cell_id": "00012-50e37be6-7e4c-467e-a84c-37c41fac4db9",
    "deepnote_to_be_reexecuted": false,
    "source_hash": "9bf766b8",
    "execution_start": 1626128432549,
    "execution_millis": 2,
    "output_cleared": true,
    "deepnote_cell_type": "code"
   },
   "source": "# plot_list = []\n\n# # Begin iterating through streams\n# for stream in grouped.stream.unique():\n#     # At the moment the name is hardcoded - this needs to change to iterate through given streams\n#     stream_only = grouped[grouped['stream'] == stream]\n#     # Get into correct format for Prophet\n#     stream_only = (\n#         stream_only.drop('stream', axis=1)\n#         .rename({'date_time_hour_start': 'ds', \n#                     'dummy': 'y'}, axis=1)\n#                     )\n\n#     # log.info(stream_only.head(2))\n    \n#     # 1 week forecast\n#     model = Prophet(interval_width=0.95)\n#     model.add_country_holidays(country_name='England')\n#     model.fit(stream_only)\n#     future = model.make_future_dataframe(periods=24*7*8, \n#                                          freq='H', \n#                                          include_history=False)\n#     fcst = model.predict(future)\n\n#     fig  = plot_plotly(model, fcst)\n\n#     # Update the x-axis range so we only display the future (i.e. the prediction),\n#     # not the historic data, otherwise the period we are interested in is so small \n#     # as to not be visible\n#     fig = fig.update_layout(xaxis_range=[stream_only.ds.max().to_pydatetime(), \n#                                             fcst.ds.max()])\n\n#     plot_list.append({'title': stream, 'fig_json': fig.to_json(),\n#                       'model': model, 'fcst': fcst})\n#     print('Plot created for stream ' + str(stream))",
   "execution_count": null,
   "outputs": []
  },
  {
   "cell_type": "markdown",
   "source": "# Stream objects\n\nCreate an object that can contain relevant information about streams: name, minutes per decision, and priority.",
   "metadata": {
    "tags": [],
    "cell_id": "00013-537f9787-fbcf-4066-b83a-6f92898adb35",
    "deepnote_cell_type": "markdown"
   }
  },
  {
   "cell_type": "code",
   "metadata": {
    "tags": [],
    "cell_id": "00014-6165893c-0a91-4ffb-8f40-dc8f85db9a45",
    "deepnote_to_be_reexecuted": false,
    "source_hash": "306cb57b",
    "execution_start": 1626128432588,
    "execution_millis": 1,
    "output_cleared": true,
    "deepnote_cell_type": "code"
   },
   "source": "class Stream:\n    '''\n    Object to contain required information about streams.\n    '''\n    def __init__(self,\n                 name,\n                 minutes_per_decision,\n                 priority,\n                 historic_data_all_streams,\n                 twenty_four_hour_department=True,\n                 open_hour=0,\n                 close_hour=0,\n                 weeks_to_forecast=8):\n        '''\n        Constructor\n\n        Parameters:\n        -----------\n        name: str\n            Name of the stream (e.g. majors, minors, resus)\n\n        minutes_per_decision: int\n            Number of minutes typically required to make a clinical \n            decision for each stream.\n\n            This will be used to calculate the decision making time\n            required from the number of attendances.\n\n        priority: int\n            Order in which the stream will be seen by clinicians who\n            can float across different streams \n\n            Lower numbers = higher priority\n            i.e. stream 1 will be seen first by clinicians so should\n            be set for the most urgent stream\n\n        historic_data_all_streams: pd.DataFrame\n            dataframe with three columns:\n            date_time_hour_start = DateTime column at hourly intervals\n            stream = Stream\n            dummy = Number of arrivals in that stream in that hour\n\n        open_hour: str\n            Opening time of the emergency department\n            Decimal number of hours in 24 hour time (e.g. 7am would be 7,\n            7:30am would be 7.5)\n            Defaults to being 24 hour\n            If not 24 hour, uses this time to cut off forecasting\n            after this point, improving forecast accuracy\n\n        close_hour: float\n            Closing time of the emergency department\n            Decimal number of hours in 24 hour time (e.g. 6pm would be 18,\n            6:30pm would be 6.5)\n            Defaults to being 24 hour\n            If not 24 hour, uses this time to cut off forecasting\n            after this point, improving forecast accuracy\n        \n        weeks_to_forecast: int\n            Number of weeks to run the forecast for\n        '''\n    \n        self.name = name\n        self.minutes_per_decision = minutes_per_decision\n        self.priority = priority\n\n        self.weeks_to_forecast = weeks_to_forecast\n\n        self.twenty_four_hour_department = twenty_four_hour_department\n\n        # TODO: Add warnings and fail to create model if this contradicts\n        # the twenty_four_hour_department attribute\n        self.open_hour = open_hour\n        self.close_hour = close_hour\n        self.historic_data = historic_data_all_streams[historic_data_all_streams['stream'] == self.name]\n\n    def fit_prophet_model_to_stream(self, interval_width=0.95,\n                                    country='England'):\n        '''\n        Fits a Facebook Prophet forecasting model to hourly time\n        series data and returns a forecast dataframe\n\n        Params\n        ------- \n        \n        interval_width: float, default 0.95\n            Value between 0 and 1 that will set the width of the \n            intervals. \n            0.95 = 95% confidence interval etc.\n\n        country: string, default 'England'\n            Country to include holidays for. \n            Expected options: one of 'England', 'Wales', 'Scotland', \n            'NorthernIreland', 'Ireland'\n\n            All valid country names can be found here:\n            https://github.com/dr-prodigy/python-holidays\n        '''\n        # Get into correct format for Prophet\n        df = (\n            self.historic_data.drop('stream', axis=1)\n            .rename({'date_time_hour_start': 'ds', \n                        'dummy': 'y'}, axis=1)\n                        )\n        \n        # 8 week forecast\n        model = Prophet(interval_width=interval_width)\n        model.add_country_holidays(country_name=country)\n        model.fit(df)\n        future = model.make_future_dataframe(\n            periods=24 * 7 * self.weeks_to_forecast, \n            freq='H', \n            include_history=False\n            )\n        \n        # If not a 24 hour department, filter\n        # See docs here, section 'Data with regular gaps':\n        # https://facebook.github.io/prophet/docs/non-daily_data.html\n        # If this isn't done then the 'daily seasonality... [will be] unconstrained\n        # for the rest of the day [where there is not historical data]'\n        if not self.twenty_four_hour_department:\n            future_excluding_closed = future.copy()\n            # Filter out time before opening\n            future_excluding_closed = (\n                future_excluding_closed[future_excluding_closed['ds'].dt.hour > self.open_hour]\n            )\n            # Filter out time after closing\n            future_excluding_closed = (\n                future_excluding_closed[future_excluding_closed['ds'].dt.hour < self.close_hour]\n            )\n            forecast_df = model.predict(future_excluding_closed)\n        else:\n            forecast_df = model.predict(future)\n\n        self.prophet_model = model\n        self.forecast_df = forecast_df\n\n    def add_decision_making_time_hourly(self):\n        self.forecast_df['decision_making_time_hour'] = (\n            self.forecast_df['yhat'] * self.minutes_per_decision\n        )\n        \n        self.forecast_df['decision_making_time_hour_lower'] = (\n            self.forecast_df['yhat_lower'] * self.minutes_per_decision\n        )\n        \n        self.forecast_df['decision_making_time_hour_upper'] = (\n            self.forecast_df['yhat_upper'] * self.minutes_per_decision\n        )\n\n    def get_metrics(self):\n        # Have to use parallel='processes' if running in Deepnote\n        # as the default 'none' calls on ipywidgets, which aren't supported\n        # in Deepnote but can't be specifically turned off - this is a \n        # reasonable workaround\n        n_days_covered = (\n            (stream_majors.historic_data.date_time_hour_start.max() \n            - stream_majors.historic_data.date_time_hour_start.min())\n            .days\n        )\n\n        self.df_cv = cross_validation(self.prophet_model,\n                                 initial=f'{n_days_covered - 240}  days',\n                                 period='60 days',\n                                 horizon=f'{24 * 7 * self.weeks_to_forecast} hours',\n                                 parallel=\"processes\",)\n        \n        self.performance_metrics = performance_metrics(self.df_cv)\n",
   "execution_count": null,
   "outputs": []
  },
  {
   "cell_type": "code",
   "metadata": {
    "tags": [],
    "cell_id": "00015-04b349ec-63f7-4a2e-bcd9-c89cfbdd0cd5",
    "deepnote_to_be_reexecuted": false,
    "source_hash": "d880e9c0",
    "execution_start": 1626128432590,
    "execution_millis": 28,
    "output_cleared": true,
    "deepnote_cell_type": "code"
   },
   "source": "# Initialise streams\nstream_majors = Stream('Majors', 60, 2, grouped)\nstream_minors = Stream('Minors', 30, 3, grouped)\nstream_resus = Stream('Resus', 50, 1, grouped)",
   "execution_count": null,
   "outputs": []
  },
  {
   "cell_type": "code",
   "metadata": {
    "tags": [],
    "cell_id": "00016-049e4a54-a3f9-4d7d-bf0f-360bc01ade40",
    "deepnote_to_be_reexecuted": false,
    "source_hash": "ab0f1cd3",
    "execution_start": 1626128432622,
    "execution_millis": 1,
    "output_cleared": true,
    "deepnote_cell_type": "code"
   },
   "source": "stream_objects = [stream_majors, stream_minors, stream_resus]",
   "execution_count": null,
   "outputs": []
  },
  {
   "cell_type": "code",
   "metadata": {
    "tags": [],
    "cell_id": "00017-1111e87d-b85b-46da-9ebc-8069a59911b4",
    "deepnote_to_be_reexecuted": false,
    "source_hash": "f3134234",
    "execution_start": 1626128432669,
    "execution_millis": 70846,
    "output_cleared": true,
    "deepnote_cell_type": "code"
   },
   "source": "# Fit models\n[stream_object.fit_prophet_model_to_stream() \n for stream_object \n in stream_objects]",
   "execution_count": null,
   "outputs": []
  },
  {
   "cell_type": "markdown",
   "source": "## Consider the average hourly attendances per stream",
   "metadata": {
    "tags": [],
    "cell_id": "00023-cb5c5f61-8634-4930-9857-ce33c09bd3a2",
    "deepnote_cell_type": "markdown"
   }
  },
  {
   "cell_type": "code",
   "metadata": {
    "tags": [],
    "cell_id": "00025-168b0f58-c0db-43e3-a27b-e4c2261047be",
    "deepnote_to_be_reexecuted": false,
    "source_hash": "3c5318ab",
    "execution_start": 1626128503518,
    "execution_millis": 3,
    "output_cleared": true,
    "deepnote_cell_type": "code"
   },
   "source": "# Resample to ensure we have values for every hour\ngrouped_hs = grouped.copy()",
   "execution_count": null,
   "outputs": []
  },
  {
   "cell_type": "code",
   "metadata": {
    "tags": [],
    "cell_id": "00025-3608ec4e-ffe9-4c95-9fbb-cb907daf8ab2",
    "deepnote_to_be_reexecuted": false,
    "source_hash": "620d92a7",
    "execution_start": 1626128503534,
    "execution_millis": 56,
    "output_cleared": true,
    "deepnote_cell_type": "code"
   },
   "source": "grouped_hs = (\n    grouped_hs[grouped_hs['stream'].isin(['Majors', 'Minors', 'Resus'])]\n    .pivot_table(values='dummy', \n                 columns='stream', \n                 index='date_time_hour_start')\n    .fillna(0)\n)",
   "execution_count": null,
   "outputs": []
  },
  {
   "cell_type": "code",
   "metadata": {
    "tags": [],
    "cell_id": "00026-68410027-97ce-4373-9514-81a76d40a77e",
    "deepnote_to_be_reexecuted": false,
    "source_hash": "bf613ef4",
    "execution_start": 1626128503650,
    "execution_millis": 0,
    "output_cleared": true,
    "deepnote_cell_type": "code"
   },
   "source": "grouped_hs = (\n    grouped_hs.set_index(pd.to_datetime(grouped_hs.index))\n)",
   "execution_count": null,
   "outputs": []
  },
  {
   "cell_type": "code",
   "metadata": {
    "tags": [],
    "cell_id": "00027-bb6cb15b-2575-448d-bea1-f108ad5f5390",
    "deepnote_to_be_reexecuted": false,
    "source_hash": "931a0798",
    "execution_start": 1626128503651,
    "execution_millis": 63,
    "output_cleared": true,
    "deepnote_cell_type": "code"
   },
   "source": "grouped_hs.head()",
   "execution_count": null,
   "outputs": []
  },
  {
   "cell_type": "code",
   "metadata": {
    "tags": [],
    "cell_id": "00025-d7c09d29-9903-4cd5-a82a-104578c7cbd5",
    "deepnote_to_be_reexecuted": false,
    "source_hash": "b6ebec8c",
    "execution_start": 1626128503696,
    "execution_millis": 0,
    "output_cleared": true,
    "deepnote_cell_type": "code"
   },
   "source": "grouped_hs = grouped_hs.resample('H').asfreq()",
   "execution_count": null,
   "outputs": []
  },
  {
   "cell_type": "code",
   "metadata": {
    "tags": [],
    "cell_id": "00029-8bc28eaa-0ccb-40cd-ad72-b37f4837cfc6",
    "deepnote_to_be_reexecuted": false,
    "source_hash": "9b71e2b0",
    "execution_start": 1626128503697,
    "execution_millis": 0,
    "output_cleared": true,
    "deepnote_cell_type": "code"
   },
   "source": "plot_df = pd.melt(grouped_hs.reset_index(), id_vars='date_time_hour_start')",
   "execution_count": null,
   "outputs": []
  },
  {
   "cell_type": "code",
   "metadata": {
    "tags": [],
    "cell_id": "00023-32413b94-f2da-4fc5-aef8-6b3131b016d5",
    "deepnote_to_be_reexecuted": false,
    "source_hash": "77effc8d",
    "execution_start": 1626128503698,
    "execution_millis": 4333,
    "output_cleared": true,
    "deepnote_cell_type": "code"
   },
   "source": "px.box(plot_df, \n       x='stream', y='value', color='stream')",
   "execution_count": null,
   "outputs": []
  },
  {
   "cell_type": "code",
   "metadata": {
    "tags": [],
    "cell_id": "00025-5b74ffbc-9526-4544-b862-cf7de4881e9c",
    "deepnote_to_be_reexecuted": false,
    "source_hash": "def2a84",
    "execution_start": 1626128508015,
    "execution_millis": 611,
    "output_cleared": true,
    "deepnote_cell_type": "code"
   },
   "source": "px.histogram(plot_df, \n                x='value', color='stream', opacity=0.3, )",
   "execution_count": null,
   "outputs": []
  },
  {
   "cell_type": "markdown",
   "source": "# Convert attendances to decision-making time required per hour",
   "metadata": {
    "tags": [],
    "cell_id": "00016-4e40526c-afa3-4ea1-a7fb-e45a0df750de",
    "deepnote_cell_type": "markdown"
   }
  },
  {
   "cell_type": "code",
   "metadata": {
    "tags": [],
    "cell_id": "00026-764c530b-965f-4e4e-80d8-840294d679eb",
    "deepnote_to_be_reexecuted": false,
    "source_hash": "d82c81",
    "execution_start": 1626128508617,
    "execution_millis": 339,
    "output_cleared": true,
    "deepnote_cell_type": "code"
   },
   "source": "# For any negative predictions, replace them with zero\n\nfor stream_object in stream_objects:\n    for col in ['yhat', 'yhat_lower', 'yhat_upper']:\n        stream_object.forecast_df[col] = (\n            stream_object.forecast_df.apply(lambda x: x[col] if x[col] >=0 else 0, axis=1)\n        )",
   "execution_count": null,
   "outputs": []
  },
  {
   "cell_type": "code",
   "metadata": {
    "tags": [],
    "cell_id": "00016-42a9e165-d4b8-4580-98d2-491eae1145d3",
    "deepnote_to_be_reexecuted": false,
    "source_hash": "62ec8b4b",
    "execution_start": 1626128508973,
    "execution_millis": 12,
    "output_cleared": true,
    "deepnote_cell_type": "code"
   },
   "source": "[stream_object.add_decision_making_time_hourly() \n for stream_object \n in stream_objects]",
   "execution_count": null,
   "outputs": []
  },
  {
   "cell_type": "code",
   "metadata": {
    "tags": [],
    "cell_id": "00034-7f4a05e6-24d6-4042-94e1-2c3dbcc7226c",
    "deepnote_to_be_reexecuted": false,
    "source_hash": "bc202b2a",
    "execution_start": 1626128508982,
    "execution_millis": 370,
    "output_cleared": true,
    "deepnote_cell_type": "code"
   },
   "source": "stream_majors.forecast_df",
   "execution_count": null,
   "outputs": []
  },
  {
   "cell_type": "markdown",
   "source": "# Class Definition",
   "metadata": {
    "tags": [],
    "cell_id": "00013-c2db2c8b-2324-47cd-a544-1d5b7703fe81",
    "deepnote_cell_type": "markdown"
   }
  },
  {
   "cell_type": "markdown",
   "source": "## Shift Type",
   "metadata": {
    "tags": [],
    "cell_id": "00030-ff0c2fcb-9723-41ce-a770-61f007fc27c9",
    "deepnote_cell_type": "markdown"
   }
  },
  {
   "cell_type": "code",
   "metadata": {
    "tags": [],
    "cell_id": "00014-dbfbe439-15db-4937-8a78-5566cf2ea969",
    "deepnote_to_be_reexecuted": false,
    "source_hash": "f00a9af5",
    "execution_start": 1626128509349,
    "execution_millis": 5,
    "output_cleared": true,
    "deepnote_cell_type": "code"
   },
   "source": "class ShiftType:\n    def __init__(self,\n                 name,\n                 start_time,\n                 end_time,\n                 unavailability_1_start=None,\n                 unavailability_1_end=None,\n                 unavailability_2_start=None,\n                 unavailability_2_end=None,\n                 unavailability_3_start=None,\n                 unavailability_3_end=None):\n        '''\n        Params:\n        --------\n\n        name: str\n            Name of shift type\n            (e.g. early, late, all day)\n\n        start_time: str\n            Time the shift begins\n            Pass in the form HH:MM\n\n        end_time: str\n            Time the shift ends\n            Pass in the form HH:MM\n\n        unavailability_1_start: str (OPTIONAL)\n            Time the first period of unavailability starts\n            Pass in the form HH:MM\n\n        unavailability_1_end: str (OPTIONAL)\n            Time the first period of unavailability ends\n            Pass in the form HH:MM\n\n        unavailability_2_start: str (OPTIONAL)\n            Time the second period of unavailability starts\n            Pass in the form HH:MM            \n\n        unavailability_2_end: str (OPTIONAL)\n            Time the second period of unavailability ends\n            Pass in the form HH:MM\n\n\n        unavailability_3_start: str (OPTIONAL)\n            Time the third period of unavailability starts\n            Pass in the form HH:MM\n            \n        unavailability_3_end: str (OPTIONAL)\n            Time the third period of unavailability ends\n            Pass in the form HH:MM\n        '''\n\n        self.name = name\n        self.name_plottable = name.replace('_', ' ').title()\n\n        self.start_time = datetime.strptime(start_time,'%H:%M').time()\n        self.end_time = datetime.strptime(end_time,'%H:%M').time()\n\n        self.unavailability_1_start = self.try_datetime_parse(unavailability_1_start)\n        self.unavailability_1_end = self.try_datetime_parse(unavailability_1_end)\n\n        self.unavailability_2_start = self.try_datetime_parse(unavailability_2_start)\n        self.unavailability_2_end = self.try_datetime_parse(unavailability_2_end)\n\n        self.unavailability_3_start = self.try_datetime_parse(unavailability_3_start)\n        self.unavailability_3_end = self.try_datetime_parse(unavailability_3_end)\n\n    def try_datetime_parse(self, time_string):\n        if time_string is not None:\n            return datetime.strptime(time_string,'%H:%M').time()\n        else:\n            return None\n\n    def decimal_time(self, time_of_interest):\n        requested_time = getattr(self, time_of_interest)\n        if requested_time is not None:\n            return requested_time.hour + (requested_time.minute/60)\n        else:\n            return None\n\n    def shift_type_dataframe(self):\n        data = {\n            'start_time': self.start_time,\n            'end_time': self.end_time,\n            'unavailability_1_start': self.unavailability_1_start,\n            'unavailability_1_end': self.unavailability_1_end,\n            'unavailability_2_start': self.unavailability_2_start,\n            'unavailability_2_end': self.unavailability_2_end,\n            'unavailability_3_start': self.unavailability_3_start,\n            'unavailability_3_end': self.unavailability_3_end,\n        }\n        \n        return pd.DataFrame.from_dict(\n            data=data, \n            orient='index', \n            columns = [self.name]\n            ) ",
   "execution_count": null,
   "outputs": []
  },
  {
   "cell_type": "code",
   "metadata": {
    "tags": [],
    "cell_id": "00032-abbc4528-c0be-4e29-8f73-f20463759360",
    "deepnote_to_be_reexecuted": false,
    "source_hash": "db6bffcb",
    "execution_start": 1626128509381,
    "execution_millis": 30,
    "output_cleared": true,
    "deepnote_cell_type": "code"
   },
   "source": "def plot_shift_types(shift_type_list,\n                    return_json=False):\n    '''\n    Outputs a plotly plot showing the \n\n    Params\n    -------\n    shift_type_list: list\n        List of shift type objects\n    '''\n\n    # --- Set up plot --- #\n\n    fig = go.Figure()\n\n    # Work out how wide the plot needs to be by looking at the number\n    # of shift types we have been given \n    plot_width = 3 * (len(shift_type_list)) + 1\n\n    # Generate y axis labels\n    timestrings = []\n    t = datetime(2021, 1, 1, 0, 0, 0)\n    while t < datetime(2021, 1, 2):\n        timestrings.append(str(t.strftime('%H:%M')))\n        t = t + timedelta(hours=1)\n    time_labels = timestrings * 2\n    time_labels = time_labels + [\"00:00\"]\n\n    # Set axes properties\n    fig.update_xaxes(range=[0, plot_width], \n                     showgrid=False, \n                     visible=False)\n    # Set height of axes\n    # Goes below 0 to allow for \n    fig.update_yaxes(range=[-26, 26], \n                     tickvals=list(range(-24, 25, 1)),\n                     ticktext= time_labels)\n\n    # --- Begin iterating through shift types --- #\n    for i, shift_type in enumerate(shift_type_list):\n        \n        # Start by dealing with start and end times\n        start_time_decimal_shift = shift_type.decimal_time('start_time')\n        end_time_decimal_shift = shift_type.decimal_time('end_time')\n\n        # If the start time is before the end time, \n        # implying a shift that doesn't span midnight\n        if start_time_decimal_shift < end_time_decimal_shift:\n            y0 = start_time_decimal_shift - 24 \n            y1 = end_time_decimal_shift - 24\n        \n        # If the start time is after the end time, implying the \n        # shift spans midnight\n        else: \n            y0 = end_time_decimal_shift \n            y1 = start_time_decimal_shift - 24\n\n        fig.add_shape(type=\"rect\",\n            x0 = 3*(i+1) - 2,\n            x1 = 3*(i+1) , \n            y0 = y0, \n            y1 = y1,\n            line = {\n                'color': \"RoyalBlue\",\n                'width': 2,\n            },\n            fillcolor = \"LightSkyBlue\",\n            name = shift_type.name\n        )\n\n        fig.add_annotation(\n            x=3 * (i+1) - 1, \n            y=26,\n            text='<br>'.join(textwrap.wrap(shift_type.name_plottable, width=10)),\n            showarrow=False,\n            yshift=10\n            )\n\n        # --- Now deal with break times --- #\n        for j in [\"unavailability_1\", \"unavailability_2\", \"unavailability_3\"]:\n            # Get the start and end time for the break as a decimal\n            start_time_decimal_break = shift_type.decimal_time(f'{j}_start')\n            end_time_decimal_break = shift_type.decimal_time(f'{j}_end')\n\n            # Check whether a break is defined\n            if (start_time_decimal_break is not None) and (end_time_decimal_break is not None):\n\n                # Deal with breaks if shift doesn't span midnight\n                if start_time_decimal_shift < end_time_decimal_shift:\n                    y0 = start_time_decimal_break - 24 \n                    y1 = end_time_decimal_break - 24\n\n                # Deal with breaks if shift does span midnight\n                else:                     \n                    # If break start is bigger than a break end,\n                    # implies the break spans midnight\n                    if start_time_decimal_break > end_time_decimal_break:\n                        y0 = start_time_decimal_break - 24 \n                        y1 = end_time_decimal_break \n                    \n                    # If start and end time both after midnight\n                    elif (start_time_decimal_break < 12) and (end_time_decimal_break < 12):\n                        y0 = start_time_decimal_break  \n                        y1 = end_time_decimal_break\n\n                    # If start and end time of break both before midnight\n                    else: \n                        y0 = start_time_decimal_break - 24\n                        y1 = end_time_decimal_break - 24\n\n                # Plot the rectangle that represents the break\n                fig.add_shape(type=\"rect\",\n                    x0 = 3*(i+1) - 2,\n                    x1 = 3*(i+1) , \n                    y0 = y0, \n                    y1 = y1,\n                    line = {\n                        'color': \"RoyalBlue\",\n                        'width': 2,\n                    },\n                    fillcolor = \"LightGrey\",\n                    name = shift_type.name,\n                    # marker_pattern_shape=\"/\", \n                )\n\n    # Add a line showing midnight between the two days\n    fig.add_shape(\n        type=\"line\",\n        xref=\"x\", yref=\"y\",\n        x0=0, x1=plot_width,\n        y0=0, y1=0, \n        line={\n            'color': \"DarkOrange\",\n            'width': 1,\n            'dash': \"dash\"\n        },\n    )\n\n    # Resize the plot\n    fig.update_layout(\n        autosize=False,\n        width=600,\n        height=800\n        )\n\n    if return_json:\n        return fig.to_json()\n    else:\n        fig.show()\n    ",
   "execution_count": null,
   "outputs": []
  },
  {
   "cell_type": "markdown",
   "source": "## Role Type",
   "metadata": {
    "tags": [],
    "cell_id": "00032-474acc5d-64e3-4cc5-819c-485a6bc6463b",
    "deepnote_cell_type": "markdown"
   }
  },
  {
   "cell_type": "code",
   "metadata": {
    "tags": [],
    "cell_id": "00037-11c32eab-e6b6-4fd0-8c5f-c883e857516d",
    "deepnote_to_be_reexecuted": false,
    "source_hash": "2b9b54d2",
    "execution_start": 1626128509414,
    "execution_millis": 3,
    "output_cleared": true,
    "deepnote_cell_type": "code"
   },
   "source": "class Role:\n    def __init__(self,\n                role_name,\n                decisions_per_hour_per_stream):\n\n        '''\n        The role defines the decision-making capabilities of a \n        particular class of decision maker\n\n        e.g. a Role could be 'Consultant majors'\n\n        You may have >1 individual with the same role in an ED\n        \n\n        Params:\n        -------\n\n        role_name: str\n            Name of role\n            Examples: Cons Resus, Cons Majors, Cons Minors\n\n        decisions_per_hour_per_stream: list of dicts\n            List of dicts in the following format\n            {'stream': str, 'decisions_per_hour': float}\n            Where stream is the stream name\n            Decisions per hour is \n\n            If a resource is able to make decisions for multiple streams,\n            then the list should contain multiple dictionaries\n\n        '''\n    \n        self.role_name = role_name\n        self.decisions_per_hour_per_stream = decisions_per_hour_per_stream ",
   "execution_count": null,
   "outputs": []
  },
  {
   "cell_type": "markdown",
   "source": "## Rota Entry",
   "metadata": {
    "tags": [],
    "cell_id": "00036-6540a617-6755-4ed2-a737-716c657e3d25",
    "deepnote_cell_type": "markdown"
   }
  },
  {
   "cell_type": "code",
   "metadata": {
    "tags": [],
    "cell_id": "00039-b7f1f04d-881b-4456-89c6-e9d399371683",
    "deepnote_to_be_reexecuted": false,
    "source_hash": "1179917a",
    "execution_start": 1626128509448,
    "execution_millis": 0,
    "output_cleared": true,
    "deepnote_cell_type": "code"
   },
   "source": "class RotaEntry:\n    '''\n    Object defining a week's worth of rota for a single\n    individual\n    '''\n\n    def __init__(self,\n                 role,\n                 core=True,\n                 name=None,\n                 prev_week=None,\n                 monday=None,\n                 tuesday=None,\n                 wednesday=None,\n                 thursday=None,\n                 friday=None,\n                 saturday=None,\n                 sunday=None):\n        '''\n        role: RoleType object\n            What role the rota entry relates to. \n            RoleType objects determine decisions per hour.\n\n        core: boolean\n            Whether a resource should be considered as core.\n            False = resource is ad-hoc.\n\n\n        name: str\n            String giving name of resource e.g. if preferring to \n            work with actual names of individuals\n\n        prev_week: ShiftType object \n\n        monday: ShiftType object\n\n        tuesday: ShiftType object\n\n        wednesday: ShiftType object\n\n        thursday: ShiftType object\n\n        friday: ShiftType object\n        \n        saturday: ShiftType object\n        \n        sunday: ShiftType object\n        '''\n        self.role = role\n        self.core = core\n        self.name = name\n\n        self.prev_week = prev_week\n        self.monday = monday\n        self.tuesday = tuesday\n        self.wednesday = wednesday\n        self.thursday = thursday\n        self.friday = friday\n        self.saturday = saturday\n        self.sunday = sunday",
   "execution_count": null,
   "outputs": []
  },
  {
   "cell_type": "markdown",
   "source": "## Rota Template",
   "metadata": {
    "tags": [],
    "cell_id": "00039-715076d2-d918-42f8-a196-88df91d31133",
    "deepnote_cell_type": "markdown"
   }
  },
  {
   "cell_type": "code",
   "metadata": {
    "tags": [],
    "cell_id": "00039-c89ee925-4e36-42c0-b52f-ca419d56ba25",
    "deepnote_to_be_reexecuted": false,
    "source_hash": "b9290d50",
    "execution_start": 1626128509449,
    "execution_millis": 0,
    "output_cleared": true,
    "deepnote_cell_type": "code"
   },
   "source": "class RotaTemplate:\n    def __init__(self,\n                 name,\n                 rota,\n                 start_date):\n        '''\n\n        Params:\n        -------\n        \n        name: str\n            Name for rota template\n\n        rota: list\n            List of RotaEntry objects\n\n        '''\n        self.name = name\n        self.rota = rota\n        self.start_date = datetime.strptime(start_date, \"%d/%m/%Y\").date()\n        self.end_date = self.start_date + timedelta(days=7)",
   "execution_count": null,
   "outputs": []
  },
  {
   "cell_type": "markdown",
   "source": "# ED Definition",
   "metadata": {
    "tags": [],
    "cell_id": "00034-53fa45c0-34a0-4b81-928d-53aeb605d2d3",
    "deepnote_cell_type": "markdown"
   }
  },
  {
   "cell_type": "markdown",
   "source": "## Set up shift types",
   "metadata": {
    "tags": [],
    "cell_id": "00040-7a508819-4af2-4926-b924-c84d9ad03877",
    "deepnote_cell_type": "markdown"
   }
  },
  {
   "cell_type": "code",
   "metadata": {
    "tags": [],
    "cell_id": "00041-a33a2c04-5b64-49ca-92e5-4c84e7c6ab1f",
    "deepnote_to_be_reexecuted": false,
    "source_hash": "98a9d251",
    "execution_start": 1626128509450,
    "execution_millis": 7,
    "output_cleared": true,
    "deepnote_cell_type": "code"
   },
   "source": "all_day = ShiftType(name='all_day',\n                  start_time='08:00',\n                  end_time='21:00',\n                  unavailability_1_start='12:00',\n                  unavailability_1_end='13:00')\n\nearly = ShiftType(name='Early',\n                  start_time=\"06:00\",\n                  end_time=\"18:00\",)\n\nlate = ShiftType(name='late',\n                  start_time='10:00',\n                  end_time='22:00',)\n\novernight= ShiftType(name='overnight',\n                  start_time='21:00',\n                  end_time='07:00',)\n\nhalf_hour_test= ShiftType(name='half_hour_test',\n                  start_time='21:30',\n                  end_time='07:30',\n                  unavailability_1_start='22:30',\n                  unavailability_1_end='22:45',\n                  unavailability_2_start='23:30',\n                  unavailability_2_end='00:45',\n                  unavailability_3_start='04:30',\n                  unavailability_3_end='05:45'\n                )\n\nshift_types = [all_day, early, late, overnight, half_hour_test]",
   "execution_count": null,
   "outputs": []
  },
  {
   "cell_type": "code",
   "metadata": {
    "tags": [],
    "cell_id": "00039-6d733c11-0c73-4a65-8754-fa3694b0995e",
    "deepnote_to_be_reexecuted": false,
    "source_hash": "6fbdcb4",
    "execution_start": 1626128509501,
    "execution_millis": 81,
    "output_cleared": true,
    "deepnote_cell_type": "code"
   },
   "source": "plot_shift_types(shift_types)",
   "execution_count": null,
   "outputs": []
  },
  {
   "cell_type": "code",
   "metadata": {
    "tags": [],
    "cell_id": "00040-fe989eb0-522a-48b2-8bfa-091a44b5f9f0",
    "deepnote_to_be_reexecuted": false,
    "source_hash": "86667336",
    "execution_start": 1626128509642,
    "execution_millis": 70,
    "output_cleared": true,
    "deepnote_cell_type": "code"
   },
   "source": "# Check size of json object to see size of response that will be sent\n# following API request\nsys.getsizeof(plot_shift_types(shift_types, return_json=True)) / 1000",
   "execution_count": null,
   "outputs": []
  },
  {
   "cell_type": "markdown",
   "source": "## Set up role types",
   "metadata": {
    "tags": [],
    "cell_id": "00039-97820bfe-19b5-413f-96dc-39266c7a7f83",
    "deepnote_cell_type": "markdown"
   }
  },
  {
   "cell_type": "code",
   "metadata": {
    "tags": [],
    "cell_id": "00040-72c9b52b-2fa3-4a6b-b4a5-c4e37ef67e97",
    "deepnote_to_be_reexecuted": false,
    "source_hash": "13928b4b",
    "execution_start": 1626128509680,
    "execution_millis": 0,
    "output_cleared": true,
    "deepnote_cell_type": "code"
   },
   "source": "cons_resus = Role('Cons Resus', {'Resus': 1})\ncons_majors = Role('Cons Majors', {'Majors': 2})\ncons_minors = Role('Cons Minors', {'Minors': 2.5})\ncons_flex = Role('Cons Flex', {'Majors': 1, 'Resus': 1})\n\nfy2_resus = Role('FY2 Resus', {'Resus': 1})\nfy2_majors = Role('FY2 Majors', {'Majors': 1})\nfy2_minors = Role('FY2 Minors', {'Minors': 2})\nfy2_flex = Role('FY2 Flex', {'Majors': 1, 'Resus': 1})\n\nenp_majors = Role('ENP Majors', {'Majors': 0.5})\nenp_minors = Role('ENP Minors', {'Minors': 1})\nenp_flex = Role('ENP Flex', {'Majors': 0.5, 'Minors': 1})\n\nband_5 = Role('Band 5', {'Minors': 1})",
   "execution_count": null,
   "outputs": []
  },
  {
   "cell_type": "markdown",
   "source": "## Set up rota entries",
   "metadata": {
    "tags": [],
    "cell_id": "00048-31d05b0c-d113-4e86-ab72-25963c93831f",
    "deepnote_cell_type": "markdown"
   }
  },
  {
   "cell_type": "code",
   "metadata": {
    "tags": [],
    "cell_id": "00048-0a6d3bb3-6bf6-49c7-a1ef-f146744a9f2a",
    "deepnote_to_be_reexecuted": false,
    "source_hash": "759bbd4d",
    "execution_start": 1626128509680,
    "execution_millis": 0,
    "output_cleared": true,
    "deepnote_cell_type": "code"
   },
   "source": "\nv1 = RotaTemplate(\n    name = \"v1\",\n    rota = [\n        RotaEntry(cons_resus, True, monday=overnight, tuesday=overnight, wednesday=overnight, thursday=all_day, friday=all_day),\n        RotaEntry(cons_majors, True, monday=overnight, tuesday=overnight, wednesday=overnight, thursday=overnight, friday=overnight),\n        RotaEntry(cons_minors, True, prev_week=overnight, monday=early, tuesday=early, wednesday=early, thursday=early, friday=early),\n        RotaEntry(cons_majors, False, monday=all_day, tuesday=all_day, wednesday=all_day, saturday=all_day, sunday=all_day),\n        RotaEntry(fy2_resus, True, prev_week=overnight, monday=overnight, tuesday=overnight, wednesday=overnight, thursday=overnight),\n        RotaEntry(fy2_majors, True, monday=all_day, tuesday=all_day, wednesday=all_day, thursday=all_day, sunday=all_day),\n        RotaEntry(fy2_minors, True, wednesday=overnight, friday=all_day, saturday=all_day, sunday=all_day)\n    ],\n    start_date = \"19/07/2021\",\n)",
   "execution_count": null,
   "outputs": []
  },
  {
   "cell_type": "markdown",
   "source": "### Compare core and adhoc resources",
   "metadata": {
    "tags": [],
    "cell_id": "00048-59c077a6-c937-4540-8b0f-ce8775d6ed84",
    "deepnote_cell_type": "markdown"
   }
  },
  {
   "cell_type": "code",
   "metadata": {
    "tags": [],
    "cell_id": "00049-b8f20659-e058-4b06-8ee9-aba321c73bba",
    "deepnote_to_be_reexecuted": false,
    "source_hash": "e1a2ac56",
    "execution_start": 1626129752641,
    "execution_millis": 3,
    "output_cleared": true,
    "deepnote_cell_type": "code"
   },
   "source": "resources = []\n\nfor individual_resource in v1.rota:\n    resources.append({'role': individual_resource.role.role_name,\n    'core': individual_resource.core})\n\nresources_df = pd.DataFrame.from_dict(resources)\nresources_df['count'] = 1",
   "execution_count": null,
   "outputs": []
  },
  {
   "cell_type": "code",
   "metadata": {
    "tags": [],
    "cell_id": "00050-c1ac365e-7c2e-4e82-8161-202ac084efbd",
    "deepnote_to_be_reexecuted": true,
    "source_hash": "e7a0d944",
    "execution_start": 1626130094215,
    "execution_millis": 0,
    "output_cleared": true,
    "deepnote_cell_type": "code"
   },
   "source": "resources_df_core_adhoc_count = (\n    resources_df.groupby(['role', 'core'])\n    .count()\n    .reset_index()\n)",
   "execution_count": null,
   "outputs": []
  },
  {
   "cell_type": "code",
   "metadata": {
    "tags": [],
    "cell_id": "00051-b812a74b-9b4a-446b-b578-d933dd2f8da3",
    "deepnote_to_be_reexecuted": false,
    "source_hash": "b9e4c684",
    "execution_start": 1626130271548,
    "execution_millis": 115,
    "output_cleared": true,
    "deepnote_cell_type": "code"
   },
   "source": "# resources_df_core_adhoc_count.pivot_table('role')",
   "execution_count": null,
   "outputs": []
  },
  {
   "cell_type": "markdown",
   "source": "### Calculate available capacity from rota\n\n",
   "metadata": {
    "tags": [],
    "cell_id": "00048-ab30dca3-0f92-4eeb-a990-1850d1cc24a0",
    "deepnote_cell_type": "markdown"
   }
  },
  {
   "cell_type": "code",
   "metadata": {
    "tags": [],
    "cell_id": "00049-3ba53809-89f7-435f-b993-1b2f8f0b9f0d",
    "deepnote_to_be_reexecuted": false,
    "source_hash": "b623e53d",
    "execution_start": 1626128509723,
    "execution_millis": 4,
    "output_cleared": true,
    "deepnote_cell_type": "code"
   },
   "source": "",
   "execution_count": null,
   "outputs": []
  },
  {
   "cell_type": "markdown",
   "source": "# Assess forecast quality",
   "metadata": {
    "tags": [],
    "cell_id": "00042-65cacec2-9050-4b42-89ee-4ddaaaedbf7a",
    "deepnote_cell_type": "markdown"
   }
  },
  {
   "cell_type": "code",
   "metadata": {
    "tags": [],
    "cell_id": "00043-6fd8b825-4a6a-49d2-96af-9c7f3187898a",
    "deepnote_to_be_reexecuted": false,
    "source_hash": "fc2f6d48",
    "execution_start": 1626128509723,
    "execution_millis": 0,
    "output_cleared": true,
    "deepnote_cell_type": "code"
   },
   "source": "def plot_metrics_streams(stream_objects,\n                         metric_of_interest,\n                         figsize=(14,10),\n                         sharey=True):\n    '''\n    Given a list of stream objects, output plots showing\n    the value of a metric for assessing forecast quality\n    over a range of forecast horizons \n\n    Parameters\n    ---------\n\n    stream_objects: list \n        list containing objects of type Stream \n        that have been fully initialised \n\n    metric_of_interest: string\n        One of mae, mape, mse, rmse, mdape, smape, coverage \n\n    figsize: tuple\n        Size of matplotlib plot\n    '''\n\n    fig, ax = plt.subplots(nrows=int(math.ceil(len(stream_objects)/3)), \n                           ncols=3, figsize=figsize, sharey=sharey)\n\n    for i in range(len(stream_objects)):\n        plot_cross_validation_metric(\n            stream_objects[i].df_cv, \n            metric=metric_of_interest,\n            ax=ax.flatten()[i]\n            ) \n        # Set title for given axis\n        ax.flatten()[i].title.set_text(stream_objects[i].name)\n    \n    fig.suptitle(metric_of_interest)",
   "execution_count": null,
   "outputs": []
  },
  {
   "cell_type": "code",
   "metadata": {
    "tags": [],
    "cell_id": "00044-17d52b33-a305-4f9b-ae9b-bee45f6d40a2",
    "deepnote_to_be_reexecuted": false,
    "source_hash": "5c8069a0",
    "execution_start": 1626128509729,
    "execution_millis": 3,
    "output_cleared": true,
    "deepnote_cell_type": "code"
   },
   "source": "# Test model quality\n# [stream_object.get_metrics() \n#  for stream_object \n#  in stream_objects]",
   "execution_count": null,
   "outputs": []
  },
  {
   "cell_type": "code",
   "metadata": {
    "tags": [],
    "cell_id": "00045-e0694b5b-2097-42ba-be7f-47cec1c7cd0a",
    "deepnote_to_be_reexecuted": false,
    "source_hash": "9cc39f6e",
    "execution_start": 1626128509736,
    "execution_millis": 7,
    "output_cleared": true,
    "deepnote_cell_type": "code"
   },
   "source": "# plot_metrics_streams(stream_objects, \"coverage\")",
   "execution_count": null,
   "outputs": []
  },
  {
   "cell_type": "code",
   "metadata": {
    "tags": [],
    "cell_id": "00046-2013d3f2-89ba-4242-873f-73e383e9644e",
    "deepnote_to_be_reexecuted": false,
    "source_hash": "f9275d45",
    "execution_start": 1626128509748,
    "execution_millis": 10,
    "output_cleared": true,
    "deepnote_cell_type": "code"
   },
   "source": "# plot_metrics_streams(stream_objects, \"mae\")",
   "execution_count": null,
   "outputs": []
  },
  {
   "cell_type": "markdown",
   "source": "<a style='text-decoration:none;line-height:16px;display:flex;color:#5B5B62;padding:10px;justify-content:end;' href='https://deepnote.com?utm_source=created-in-deepnote-cell&projectId=a4cc3d8f-976a-44f2-a841-ef4378fe07d2' target=\"_blank\">\n<img alt='Created in deepnote.com' style='display:inline;max-height:16px;margin:0px;margin-right:7.5px;' src='data:image/svg+xml;base64,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' > </img>\nCreated in <span style='font-weight:600;margin-left:4px;'>Deepnote</span></a>",
   "metadata": {
    "tags": [],
    "created_in_deepnote_cell": true,
    "deepnote_cell_type": "markdown"
   }
  }
 ],
 "nbformat": 4,
 "nbformat_minor": 2,
 "metadata": {
  "orig_nbformat": 2,
  "deepnote": {
   "is_reactive": false
  },
  "deepnote_notebook_id": "3d8a4c03-7478-4a26-89fe-72ebab4a303d",
  "deepnote_execution_queue": []
 }
}