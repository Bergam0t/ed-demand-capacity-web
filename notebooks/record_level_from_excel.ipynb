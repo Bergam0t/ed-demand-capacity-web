{
 "cells": [
  {
   "cell_type": "code",
   "metadata": {
    "tags": [],
    "cell_id": "00000-abeb68f2-2ab2-49c7-b4c4-8073d140f221",
    "deepnote_to_be_reexecuted": false,
    "source_hash": "80c8473",
    "execution_start": 1626961455744,
    "execution_millis": 1,
    "deepnote_cell_type": "code"
   },
   "source": "import pandas as pd\nimport random",
   "execution_count": null,
   "outputs": []
  },
  {
   "cell_type": "code",
   "metadata": {
    "tags": [],
    "cell_id": "00001-53773ef1-d464-4067-9c62-5c97fbdc5eca",
    "deepnote_to_be_reexecuted": false,
    "source_hash": "a1c057f6",
    "execution_start": 1626961457058,
    "execution_millis": 203,
    "deepnote_cell_type": "code"
   },
   "source": "df_from_excel = pd.read_feather('/work/ED_Model_-_Populated_v1.3_v2.ftr')",
   "execution_count": null,
   "outputs": []
  },
  {
   "cell_type": "code",
   "metadata": {
    "tags": [],
    "cell_id": "00002-866a6485-ce6b-4e79-8a92-3333429349fc",
    "deepnote_to_be_reexecuted": false,
    "source_hash": "f2cac321",
    "execution_start": 1626961457868,
    "execution_millis": 25,
    "deepnote_cell_type": "code"
   },
   "source": "df_from_excel.head()",
   "execution_count": null,
   "outputs": [
    {
     "output_type": "execute_result",
     "execution_count": 4,
     "data": {
      "application/vnd.deepnote.dataframe.v2+json": {
       "row_count": 5,
       "column_count": 5,
       "columns": [
        {
         "name": "Date",
         "dtype": "datetime64[ns]",
         "stats": {
          "unique_count": 1,
          "nan_count": 0,
          "min": "2017-02-27 00:00:00",
          "max": "2017-02-27 00:00:00",
          "histogram": null
         }
        },
        {
         "name": "Hour range",
         "dtype": "object",
         "stats": {
          "unique_count": 5,
          "nan_count": 0,
          "categories": [
           {
            "name": "00:00 - 00:59",
            "count": 1
           },
           {
            "name": "01:00 - 01:59",
            "count": 1
           },
           {
            "name": "3 others",
            "count": 3
           }
          ]
         }
        },
        {
         "name": "Hour",
         "dtype": "int64",
         "stats": {
          "unique_count": 5,
          "nan_count": 0,
          "min": "0",
          "max": "4",
          "histogram": [
           {
            "bin_start": 0,
            "bin_end": 0.4,
            "count": 1
           },
           {
            "bin_start": 0.4,
            "bin_end": 0.8,
            "count": 0
           },
           {
            "bin_start": 0.8,
            "bin_end": 1.2000000000000002,
            "count": 1
           },
           {
            "bin_start": 1.2000000000000002,
            "bin_end": 1.6,
            "count": 0
           },
           {
            "bin_start": 1.6,
            "bin_end": 2,
            "count": 0
           },
           {
            "bin_start": 2,
            "bin_end": 2.4000000000000004,
            "count": 1
           },
           {
            "bin_start": 2.4000000000000004,
            "bin_end": 2.8000000000000003,
            "count": 0
           },
           {
            "bin_start": 2.8000000000000003,
            "bin_end": 3.2,
            "count": 1
           },
           {
            "bin_start": 3.2,
            "bin_end": 3.6,
            "count": 0
           },
           {
            "bin_start": 3.6,
            "bin_end": 4,
            "count": 1
           }
          ]
         }
        },
        {
         "name": "stream",
         "dtype": "object",
         "stats": {
          "unique_count": 1,
          "nan_count": 0,
          "categories": [
           {
            "name": "Majors",
            "count": 5
           }
          ]
         }
        },
        {
         "name": "value",
         "dtype": "int64",
         "stats": {
          "unique_count": 2,
          "nan_count": 0,
          "min": "0",
          "max": "1",
          "histogram": [
           {
            "bin_start": 0,
            "bin_end": 0.1,
            "count": 2
           },
           {
            "bin_start": 0.1,
            "bin_end": 0.2,
            "count": 0
           },
           {
            "bin_start": 0.2,
            "bin_end": 0.30000000000000004,
            "count": 0
           },
           {
            "bin_start": 0.30000000000000004,
            "bin_end": 0.4,
            "count": 0
           },
           {
            "bin_start": 0.4,
            "bin_end": 0.5,
            "count": 0
           },
           {
            "bin_start": 0.5,
            "bin_end": 0.6000000000000001,
            "count": 0
           },
           {
            "bin_start": 0.6000000000000001,
            "bin_end": 0.7000000000000001,
            "count": 0
           },
           {
            "bin_start": 0.7000000000000001,
            "bin_end": 0.8,
            "count": 0
           },
           {
            "bin_start": 0.8,
            "bin_end": 0.9,
            "count": 0
           },
           {
            "bin_start": 0.9,
            "bin_end": 1,
            "count": 3
           }
          ]
         }
        },
        {
         "name": "_deepnote_index_column",
         "dtype": "int64"
        }
       ],
       "rows_top": [
        {
         "Date": "2017-02-27T00:00:00.000000",
         "Hour range": "00:00 - 00:59",
         "Hour": 0,
         "stream": "Majors",
         "value": 1,
         "_deepnote_index_column": 0
        },
        {
         "Date": "2017-02-27T00:00:00.000000",
         "Hour range": "01:00 - 01:59",
         "Hour": 1,
         "stream": "Majors",
         "value": 1,
         "_deepnote_index_column": 1
        },
        {
         "Date": "2017-02-27T00:00:00.000000",
         "Hour range": "02:00 - 02:59",
         "Hour": 2,
         "stream": "Majors",
         "value": 0,
         "_deepnote_index_column": 2
        },
        {
         "Date": "2017-02-27T00:00:00.000000",
         "Hour range": "03:00 - 03:59",
         "Hour": 3,
         "stream": "Majors",
         "value": 0,
         "_deepnote_index_column": 3
        },
        {
         "Date": "2017-02-27T00:00:00.000000",
         "Hour range": "04:00 - 04:59",
         "Hour": 4,
         "stream": "Majors",
         "value": 1,
         "_deepnote_index_column": 4
        }
       ],
       "rows_bottom": null
      },
      "text/plain": "        Date     Hour range  Hour  stream  value\n0 2017-02-27  00:00 - 00:59     0  Majors      1\n1 2017-02-27  01:00 - 01:59     1  Majors      1\n2 2017-02-27  02:00 - 02:59     2  Majors      0\n3 2017-02-27  03:00 - 03:59     3  Majors      0\n4 2017-02-27  04:00 - 04:59     4  Majors      1",
      "text/html": "<div>\n<style scoped>\n    .dataframe tbody tr th:only-of-type {\n        vertical-align: middle;\n    }\n\n    .dataframe tbody tr th {\n        vertical-align: top;\n    }\n\n    .dataframe thead th {\n        text-align: right;\n    }\n</style>\n<table border=\"1\" class=\"dataframe\">\n  <thead>\n    <tr style=\"text-align: right;\">\n      <th></th>\n      <th>Date</th>\n      <th>Hour range</th>\n      <th>Hour</th>\n      <th>stream</th>\n      <th>value</th>\n    </tr>\n  </thead>\n  <tbody>\n    <tr>\n      <th>0</th>\n      <td>2017-02-27</td>\n      <td>00:00 - 00:59</td>\n      <td>0</td>\n      <td>Majors</td>\n      <td>1</td>\n    </tr>\n    <tr>\n      <th>1</th>\n      <td>2017-02-27</td>\n      <td>01:00 - 01:59</td>\n      <td>1</td>\n      <td>Majors</td>\n      <td>1</td>\n    </tr>\n    <tr>\n      <th>2</th>\n      <td>2017-02-27</td>\n      <td>02:00 - 02:59</td>\n      <td>2</td>\n      <td>Majors</td>\n      <td>0</td>\n    </tr>\n    <tr>\n      <th>3</th>\n      <td>2017-02-27</td>\n      <td>03:00 - 03:59</td>\n      <td>3</td>\n      <td>Majors</td>\n      <td>0</td>\n    </tr>\n    <tr>\n      <th>4</th>\n      <td>2017-02-27</td>\n      <td>04:00 - 04:59</td>\n      <td>4</td>\n      <td>Majors</td>\n      <td>1</td>\n    </tr>\n  </tbody>\n</table>\n</div>"
     },
     "metadata": {}
    }
   ]
  },
  {
   "cell_type": "code",
   "metadata": {
    "tags": [],
    "cell_id": "00006-93eeb68b-265a-462e-b218-391fb2ec5fe5",
    "deepnote_to_be_reexecuted": false,
    "source_hash": "7c53d02c",
    "execution_start": 1626961459647,
    "execution_millis": 2,
    "deepnote_cell_type": "code"
   },
   "source": "# Drop rows where value = 0 (i.e. no patients arrived)",
   "execution_count": null,
   "outputs": []
  },
  {
   "cell_type": "code",
   "metadata": {
    "tags": [],
    "cell_id": "00007-b62f0ca7-27a6-4cef-bb24-ec222c2a434e",
    "deepnote_to_be_reexecuted": false,
    "source_hash": "82f7d901",
    "execution_start": 1626961461659,
    "execution_millis": 0,
    "deepnote_cell_type": "code"
   },
   "source": "df_from_excel = df_from_excel[df_from_excel['value'] != 0]",
   "execution_count": null,
   "outputs": []
  },
  {
   "cell_type": "markdown",
   "source": "# Generate row per individual\n\nUse count value to generate a new row per individual, then concat all of the resulting dataframes. \n\niterrows?",
   "metadata": {
    "tags": [],
    "cell_id": "00008-e1f21059-3f49-4cad-b6e4-f6e7e7a879ad",
    "deepnote_cell_type": "markdown"
   }
  },
  {
   "cell_type": "code",
   "metadata": {
    "tags": [],
    "cell_id": "00006-45e174f2-0ca3-488a-a9f9-5993f3fc4247",
    "deepnote_to_be_reexecuted": false,
    "source_hash": "c857cad5",
    "execution_start": 1626961666146,
    "execution_millis": 1,
    "deepnote_cell_type": "code"
   },
   "source": "new_df = []",
   "execution_count": null,
   "outputs": []
  },
  {
   "cell_type": "code",
   "metadata": {
    "tags": [],
    "cell_id": "00009-352bd489-f77e-40aa-a85d-77d6c1ac5276",
    "deepnote_to_be_reexecuted": false,
    "source_hash": "4743847",
    "execution_start": 1626961671890,
    "execution_millis": 6127,
    "deepnote_cell_type": "code"
   },
   "source": "for index, row in df_from_excel.iterrows():\n    n_per_hour = row.value\n    for i in range(n_per_hour):\n        new_df.append(row)",
   "execution_count": null,
   "outputs": []
  },
  {
   "cell_type": "code",
   "metadata": {
    "tags": [],
    "cell_id": "00008-fb364200-07a4-4d50-ba41-d9c6e32a6181",
    "deepnote_to_be_reexecuted": false,
    "source_hash": "78a3f4f7",
    "execution_start": 1626961689894,
    "execution_millis": 8,
    "deepnote_cell_type": "code"
   },
   "source": "len(df_from_excel)",
   "execution_count": null,
   "outputs": [
    {
     "output_type": "execute_result",
     "execution_count": 22,
     "data": {
      "text/plain": "31865"
     },
     "metadata": {}
    }
   ]
  },
  {
   "cell_type": "code",
   "metadata": {
    "tags": [],
    "cell_id": "00008-87f3ccd8-d109-4df4-9210-aa8b1ece61af",
    "deepnote_to_be_reexecuted": false,
    "source_hash": "aee42eb5",
    "execution_start": 1626961695041,
    "execution_millis": 6,
    "deepnote_cell_type": "code"
   },
   "source": "len(new_df)",
   "execution_count": null,
   "outputs": [
    {
     "output_type": "execute_result",
     "execution_count": 23,
     "data": {
      "text/plain": "78665"
     },
     "metadata": {}
    }
   ]
  },
  {
   "cell_type": "code",
   "metadata": {
    "tags": [],
    "cell_id": "00010-2be7208b-c30c-4679-bead-b3d342e27b0d",
    "deepnote_to_be_reexecuted": false,
    "source_hash": "a7c9f34f",
    "execution_start": 1626962416723,
    "execution_millis": 14,
    "deepnote_cell_type": "code"
   },
   "source": "new_df[0]",
   "execution_count": null,
   "outputs": [
    {
     "output_type": "execute_result",
     "execution_count": 28,
     "data": {
      "text/plain": "Date          2017-02-27 00:00:00\nHour range          00:00 - 00:59\nHour                            0\nstream                     Majors\nvalue                           1\nName: 0, dtype: object"
     },
     "metadata": {}
    }
   ]
  },
  {
   "cell_type": "code",
   "metadata": {
    "tags": [],
    "cell_id": "00008-7f2a59d3-797d-4233-99b9-be5a9915707c",
    "deepnote_to_be_reexecuted": false,
    "source_hash": "52872106",
    "execution_start": 1626962468020,
    "execution_millis": 4186,
    "deepnote_cell_type": "code"
   },
   "source": "individual_df = pd.DataFrame(new_df)",
   "execution_count": null,
   "outputs": []
  },
  {
   "cell_type": "code",
   "metadata": {
    "tags": [],
    "cell_id": "00011-f15a4707-0140-4243-baad-b3d4c2869a75",
    "deepnote_to_be_reexecuted": false,
    "source_hash": "5c26a7ae",
    "execution_start": 1626962474502,
    "execution_millis": 19,
    "deepnote_cell_type": "code"
   },
   "source": "individual_df.head()",
   "execution_count": null,
   "outputs": [
    {
     "output_type": "execute_result",
     "execution_count": 30,
     "data": {
      "application/vnd.deepnote.dataframe.v2+json": {
       "row_count": 5,
       "column_count": 5,
       "columns": [
        {
         "name": "Date",
         "dtype": "datetime64[ns]",
         "stats": {
          "unique_count": 1,
          "nan_count": 0,
          "min": "2017-02-27 00:00:00",
          "max": "2017-02-27 00:00:00",
          "histogram": null
         }
        },
        {
         "name": "Hour range",
         "dtype": "object",
         "stats": {
          "unique_count": 4,
          "nan_count": 0,
          "categories": [
           {
            "name": "08:00 - 08:59",
            "count": 2
           },
           {
            "name": "00:00 - 00:59",
            "count": 1
           },
           {
            "name": "2 others",
            "count": 2
           }
          ]
         }
        },
        {
         "name": "Hour",
         "dtype": "int64",
         "stats": {
          "unique_count": 4,
          "nan_count": 0,
          "min": "0",
          "max": "8",
          "histogram": [
           {
            "bin_start": 0,
            "bin_end": 0.8,
            "count": 1
           },
           {
            "bin_start": 0.8,
            "bin_end": 1.6,
            "count": 1
           },
           {
            "bin_start": 1.6,
            "bin_end": 2.4000000000000004,
            "count": 0
           },
           {
            "bin_start": 2.4000000000000004,
            "bin_end": 3.2,
            "count": 0
           },
           {
            "bin_start": 3.2,
            "bin_end": 4,
            "count": 0
           },
           {
            "bin_start": 4,
            "bin_end": 4.800000000000001,
            "count": 1
           },
           {
            "bin_start": 4.800000000000001,
            "bin_end": 5.6000000000000005,
            "count": 0
           },
           {
            "bin_start": 5.6000000000000005,
            "bin_end": 6.4,
            "count": 0
           },
           {
            "bin_start": 6.4,
            "bin_end": 7.2,
            "count": 0
           },
           {
            "bin_start": 7.2,
            "bin_end": 8,
            "count": 2
           }
          ]
         }
        },
        {
         "name": "stream",
         "dtype": "object",
         "stats": {
          "unique_count": 1,
          "nan_count": 0,
          "categories": [
           {
            "name": "Majors",
            "count": 5
           }
          ]
         }
        },
        {
         "name": "value",
         "dtype": "int64",
         "stats": {
          "unique_count": 2,
          "nan_count": 0,
          "min": "1",
          "max": "2",
          "histogram": [
           {
            "bin_start": 1,
            "bin_end": 1.1,
            "count": 3
           },
           {
            "bin_start": 1.1,
            "bin_end": 1.2,
            "count": 0
           },
           {
            "bin_start": 1.2,
            "bin_end": 1.3,
            "count": 0
           },
           {
            "bin_start": 1.3,
            "bin_end": 1.4,
            "count": 0
           },
           {
            "bin_start": 1.4,
            "bin_end": 1.5,
            "count": 0
           },
           {
            "bin_start": 1.5,
            "bin_end": 1.6,
            "count": 0
           },
           {
            "bin_start": 1.6,
            "bin_end": 1.7000000000000002,
            "count": 0
           },
           {
            "bin_start": 1.7000000000000002,
            "bin_end": 1.8,
            "count": 0
           },
           {
            "bin_start": 1.8,
            "bin_end": 1.9,
            "count": 0
           },
           {
            "bin_start": 1.9,
            "bin_end": 2,
            "count": 2
           }
          ]
         }
        },
        {
         "name": "_deepnote_index_column",
         "dtype": "int64"
        }
       ],
       "rows_top": [
        {
         "Date": "2017-02-27T00:00:00.000000",
         "Hour range": "00:00 - 00:59",
         "Hour": 0,
         "stream": "Majors",
         "value": 1,
         "_deepnote_index_column": 0
        },
        {
         "Date": "2017-02-27T00:00:00.000000",
         "Hour range": "01:00 - 01:59",
         "Hour": 1,
         "stream": "Majors",
         "value": 1,
         "_deepnote_index_column": 1
        },
        {
         "Date": "2017-02-27T00:00:00.000000",
         "Hour range": "04:00 - 04:59",
         "Hour": 4,
         "stream": "Majors",
         "value": 1,
         "_deepnote_index_column": 4
        },
        {
         "Date": "2017-02-27T00:00:00.000000",
         "Hour range": "08:00 - 08:59",
         "Hour": 8,
         "stream": "Majors",
         "value": 2,
         "_deepnote_index_column": 8
        },
        {
         "Date": "2017-02-27T00:00:00.000000",
         "Hour range": "08:00 - 08:59",
         "Hour": 8,
         "stream": "Majors",
         "value": 2,
         "_deepnote_index_column": 8
        }
       ],
       "rows_bottom": null
      },
      "text/plain": "        Date     Hour range  Hour  stream  value\n0 2017-02-27  00:00 - 00:59     0  Majors      1\n1 2017-02-27  01:00 - 01:59     1  Majors      1\n4 2017-02-27  04:00 - 04:59     4  Majors      1\n8 2017-02-27  08:00 - 08:59     8  Majors      2\n8 2017-02-27  08:00 - 08:59     8  Majors      2",
      "text/html": "<div>\n<style scoped>\n    .dataframe tbody tr th:only-of-type {\n        vertical-align: middle;\n    }\n\n    .dataframe tbody tr th {\n        vertical-align: top;\n    }\n\n    .dataframe thead th {\n        text-align: right;\n    }\n</style>\n<table border=\"1\" class=\"dataframe\">\n  <thead>\n    <tr style=\"text-align: right;\">\n      <th></th>\n      <th>Date</th>\n      <th>Hour range</th>\n      <th>Hour</th>\n      <th>stream</th>\n      <th>value</th>\n    </tr>\n  </thead>\n  <tbody>\n    <tr>\n      <th>0</th>\n      <td>2017-02-27</td>\n      <td>00:00 - 00:59</td>\n      <td>0</td>\n      <td>Majors</td>\n      <td>1</td>\n    </tr>\n    <tr>\n      <th>1</th>\n      <td>2017-02-27</td>\n      <td>01:00 - 01:59</td>\n      <td>1</td>\n      <td>Majors</td>\n      <td>1</td>\n    </tr>\n    <tr>\n      <th>4</th>\n      <td>2017-02-27</td>\n      <td>04:00 - 04:59</td>\n      <td>4</td>\n      <td>Majors</td>\n      <td>1</td>\n    </tr>\n    <tr>\n      <th>8</th>\n      <td>2017-02-27</td>\n      <td>08:00 - 08:59</td>\n      <td>8</td>\n      <td>Majors</td>\n      <td>2</td>\n    </tr>\n    <tr>\n      <th>8</th>\n      <td>2017-02-27</td>\n      <td>08:00 - 08:59</td>\n      <td>8</td>\n      <td>Majors</td>\n      <td>2</td>\n    </tr>\n  </tbody>\n</table>\n</div>"
     },
     "metadata": {}
    }
   ]
  },
  {
   "cell_type": "markdown",
   "source": "# Randomly generate a datetime column within given hour parameters",
   "metadata": {
    "tags": [],
    "cell_id": "00009-224228c4-5c7b-4cab-b0a0-f78513481f23",
    "deepnote_cell_type": "markdown"
   }
  },
  {
   "cell_type": "code",
   "metadata": {
    "tags": [],
    "cell_id": "00010-ea9b6dc9-997d-4d54-b23e-7da4ab4da8d7",
    "deepnote_to_be_reexecuted": false,
    "source_hash": "835fef1",
    "execution_start": 1626962483243,
    "execution_millis": 2887,
    "deepnote_cell_type": "code"
   },
   "source": "individual_df['datetime_generated'] = individual_df.apply(\n    lambda x: x['Date'].date().strftime(\"%Y-%m-%d\") \n              + \" \"\n              + str(x['Hour']).zfill(2)\n              + \":\"\n              + str(round(random.uniform(0,59))).zfill(2)\n, axis=1)",
   "execution_count": null,
   "outputs": []
  },
  {
   "cell_type": "markdown",
   "source": "# Remove 'value' column",
   "metadata": {
    "tags": [],
    "cell_id": "00015-8656c868-177a-456f-b4de-cfa31264c278",
    "deepnote_cell_type": "markdown"
   }
  },
  {
   "cell_type": "code",
   "metadata": {
    "tags": [],
    "cell_id": "00016-bda8f122-5a8b-43a0-bfea-f43cc1076124",
    "deepnote_to_be_reexecuted": false,
    "source_hash": "5d6c7941",
    "execution_start": 1626962518003,
    "execution_millis": 12,
    "deepnote_cell_type": "code"
   },
   "source": "individual_df = individual_df.drop('value', axis=1)",
   "execution_count": null,
   "outputs": []
  },
  {
   "cell_type": "markdown",
   "source": "# Replace some values",
   "metadata": {
    "tags": [],
    "cell_id": "00010-c8ce00b5-f78f-4447-af1d-c702c57f9a9b",
    "deepnote_cell_type": "markdown"
   }
  },
  {
   "cell_type": "code",
   "metadata": {
    "tags": [],
    "cell_id": "00006-e11a82c1-971d-4f92-a9a4-5c8518544201",
    "deepnote_to_be_reexecuted": false,
    "source_hash": "f14fbe7e",
    "execution_start": 1626962521158,
    "execution_millis": 1,
    "deepnote_cell_type": "code"
   },
   "source": "def random_replacement(value, options, probability):\n    '''\n    Randomly change some values in a dataframe column\n    '''\n    \n    try:\n        options=options.remove(value)\n    except:\n        pass\n\n    if random.uniform(0,1) < probability:\n        return random.choices(options, weights = [1 / len(options) for i in range(len(options))])[0]\n    else:\n        return value\n    ",
   "execution_count": null,
   "outputs": []
  },
  {
   "cell_type": "code",
   "metadata": {
    "tags": [],
    "cell_id": "00007-2d872f2b-57e4-466b-8c8d-3f5abbf6ca7d",
    "deepnote_to_be_reexecuted": false,
    "source_hash": "9f4baec3",
    "execution_start": 1626962536700,
    "execution_millis": 247,
    "deepnote_cell_type": "code"
   },
   "source": "individual_df['randomised_stream_col'] = (\n    individual_df['stream'].apply(\n        random_replacement, \n        args=(individual_df['stream'].unique(), 0.1)\n        )\n)",
   "execution_count": null,
   "outputs": []
  },
  {
   "cell_type": "code",
   "metadata": {
    "tags": [],
    "cell_id": "00008-e7b82907-e564-4d1d-8200-41194815ffe4",
    "deepnote_to_be_reexecuted": false,
    "source_hash": "4a487eb",
    "execution_start": 1626962556662,
    "execution_millis": 57,
    "deepnote_cell_type": "code"
   },
   "source": "f\"The proportion of values which differ are {(((individual_df['stream'] != individual_df['randomised_stream_col']).sum() / len(individual_df))*100).round(2)}%\"",
   "execution_count": null,
   "outputs": [
    {
     "output_type": "execute_result",
     "execution_count": 36,
     "data": {
      "text/plain": "'The proportion of values which differ are 6.65%'"
     },
     "metadata": {}
    }
   ]
  },
  {
   "cell_type": "code",
   "metadata": {
    "tags": [],
    "cell_id": "00005-ade3ff2d-8ccb-4d1d-96d8-28be4bd07fd9",
    "deepnote_to_be_reexecuted": false,
    "source_hash": "eaa46c7b",
    "execution_start": 1626962566139,
    "execution_millis": 937,
    "deepnote_cell_type": "code"
   },
   "source": "individual_df.hist()",
   "execution_count": null,
   "outputs": [
    {
     "output_type": "execute_result",
     "execution_count": 38,
     "data": {
      "text/plain": "array([[<AxesSubplot:title={'center':'Date'}>,\n        <AxesSubplot:title={'center':'Hour'}>]], dtype=object)"
     },
     "metadata": {}
    },
    {
     "data": {
      "text/plain": "<Figure size 432x288 with 2 Axes>",
      "image/png": "[encoded data removed]"
     },
     "metadata": {
      "needs_background": "light",
      "image/png": {
       "width": 381,
       "height": 264
      }
     },
     "output_type": "display_data"
    }
   ]
  },
  {
   "cell_type": "code",
   "metadata": {
    "tags": [],
    "cell_id": "00022-448eb3b3-2a7b-4c01-b696-cc27d34bdc25",
    "deepnote_to_be_reexecuted": false,
    "source_hash": "86d869e1",
    "execution_start": 1626962599414,
    "execution_millis": 1083,
    "deepnote_cell_type": "code"
   },
   "source": "individual_df.to_csv('record_format_from_excel_populated_1.3.csv')",
   "execution_count": null,
   "outputs": []
  },
  {
   "cell_type": "markdown",
   "source": "<a style='text-decoration:none;line-height:16px;display:flex;color:#5B5B62;padding:10px;justify-content:end;' href='https://deepnote.com?utm_source=created-in-deepnote-cell&projectId=a56ed435-0fca-4e33-b393-07cccaf98df7' target=\"_blank\">\n<img alt='Created in deepnote.com' style='display:inline;max-height:16px;margin:0px;margin-right:7.5px;' src='data:image/svg+xml;base64,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' > </img>\nCreated in <span style='font-weight:600;margin-left:4px;'>Deepnote</span></a>",
   "metadata": {
    "tags": [],
    "created_in_deepnote_cell": true,
    "deepnote_cell_type": "markdown"
   }
  }
 ],
 "nbformat": 4,
 "nbformat_minor": 2,
 "metadata": {
  "orig_nbformat": 2,
  "deepnote": {
   "is_reactive": false
  },
  "deepnote_notebook_id": "1489b2a7-4ecf-4f60-8b98-54d45a0471cf",
  "deepnote_execution_queue": []
 }
}