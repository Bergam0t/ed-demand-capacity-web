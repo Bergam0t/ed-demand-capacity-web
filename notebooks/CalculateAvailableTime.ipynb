{
 "cells": [
  {
   "cell_type": "code",
   "metadata": {
    "tags": [],
    "cell_id": "00000-279cb832-0077-436d-951a-137dbece25fc",
    "deepnote_to_be_reexecuted": false,
    "source_hash": "f1773e59",
    "execution_start": 1627508183407,
    "execution_millis": 3,
    "deepnote_cell_type": "code"
   },
   "source": "import pandas as pd\nimport json\nfrom dateutil import parser\nfrom datetime import datetime, timedelta",
   "execution_count": 1,
   "outputs": []
  },
  {
   "cell_type": "code",
   "metadata": {
    "tags": [],
    "cell_id": "00001-cdb00f71-9271-4b0b-9968-c228e8b49ee2",
    "deepnote_to_be_reexecuted": false,
    "source_hash": "df847d76",
    "execution_start": 1627508183433,
    "execution_millis": 5,
    "deepnote_cell_type": "code"
   },
   "source": "class RoleClass:\n    def __init__(self,\n                role_name,\n                id,\n                decisions_per_hour_per_stream):\n\n        '''\n        The role defines the decision-making capabilities of a \n        particular class of decision maker\n\n        e.g. a Role could be 'Consultant majors'\n\n        You may have >1 individual with the same role in an ED\n        \n\n        Params:\n        -------\n\n        role_name: str\n            Name of role\n            Examples: Cons Resus, Cons Majors, Cons Minors\n\n        decisions_per_hour_per_stream: list of dicts\n            List of dicts in the following format\n            {'stream': str, 'decisions_per_hour': float}\n            Where stream is the stream name\n            Decisions per hour is \n\n            If a resource is able to make decisions for multiple streams,\n            then the list should contain multiple dictionaries\n\n        '''\n    \n        self.role_name = role_name\n        self.id = id\n        self.decisions_per_hour_per_stream = decisions_per_hour_per_stream \n\n\ndef create_role_objects(user_session):\n    queryset = Role.objects.filter(user_session=user_session)\n\n    role_list = []\n\n    for role_object in queryset:\n        role_list.append(\n            RoleClass(\n                role_name = role_object.role_name,\n                id = role_object.id,\n                decisions_per_hour_per_stream = role_object.decisions_per_hour_per_stream\n            )\n        )\n\n    return role_list",
   "execution_count": 2,
   "outputs": []
  },
  {
   "cell_type": "code",
   "metadata": {
    "tags": [],
    "cell_id": "00002-287b9a8e-def8-4677-8072-aa5df71d4bda",
    "deepnote_to_be_reexecuted": false,
    "source_hash": "518a8d39",
    "execution_start": 1627508183445,
    "execution_millis": 25,
    "deepnote_cell_type": "code"
   },
   "source": "class RotaEntryClass:\n    '''\n    Object defining a week's worth of rota for a single\n    individual\n    '''\n\n    def __init__(self,\n                 id,\n                 role,\n                 core=True,\n                 name=None,\n                 prev_week=None,\n                 monday=None,\n                 tuesday=None,\n                 wednesday=None,\n                 thursday=None,\n                 friday=None,\n                 saturday=None,\n                 sunday=None):\n        '''\n        role: RoleType object\n            What role the rota entry relates to. \n            RoleType objects determine decisions per hour.\n\n        core: boolean\n            Whether a resource should be considered as core.\n            False = resource is ad-hoc.\n\n\n        name: str\n            String giving name of resource e.g. if preferring to \n            work with actual names of individuals\n\n        prev_week: ShiftType object \n\n        monday: ShiftType object\n\n        tuesday: ShiftType object\n\n        wednesday: ShiftType object\n\n        thursday: ShiftType object\n\n        friday: ShiftType object\n        \n        saturday: ShiftType object\n        \n        sunday: ShiftType object\n        '''\n        self.role = role\n        self.core = core\n        self.name = name\n        self.id = id\n\n        self.prev_week = prev_week\n        self.monday = monday\n        self.tuesday = tuesday\n        self.wednesday = wednesday\n        self.thursday = thursday\n        self.friday = friday\n        self.saturday = saturday\n        self.sunday = sunday\n\n\ndef create_rota_objects(user_session):\n\n    role_list = create_role_objects(user_session)\n    shift_list = create_shift_objects(user_session)\n\n    queryset = RotaEntry.objects.filter(user_session=user_session)\n\n    def find_role_by_id(id):\n        for role_object in role_list:\n            if role_object.id == id:\n                return role_object\n    \n    def find_shift_by_id(id):\n        for shift_object in shift_list:\n            if shift_object.id == id:\n                return shift_object\n\n\n    rota_entry_list = []\n\n    for rota_object in queryset:\n        rota_entry_list.append(\n            RotaEntryClass(\n                role = find_role_by_id(rota_object.role_type),\n                core = rota_object.resource_type,\n                name = rota_object.resource_name,\n                id = rota_object.id,\n\n                prev_week = find_shift_by_id(id),\n                monday = find_shift_by_id(id),\n                tuesday = find_shift_by_id(id),\n                wednesday = find_shift_by_id(id),\n                thursday = find_shift_by_id(id),\n                friday = find_shift_by_id(id),\n                saturday = find_shift_by_id(id),\n                sunday = find_shift_by_id(id),\n            )\n        )\n\n    return role_list, shift_list, rota_entry_list\n",
   "execution_count": 3,
   "outputs": []
  },
  {
   "cell_type": "code",
   "metadata": {
    "tags": [],
    "cell_id": "00003-ef19869f-b10a-4a19-b2b1-13b2242644e9",
    "deepnote_to_be_reexecuted": false,
    "source_hash": "f33838e4",
    "execution_start": 1627508183475,
    "execution_millis": 48,
    "deepnote_cell_type": "code"
   },
   "source": "class ShiftTypeClass:\n    def __init__(self,\n                 name,\n                 id,\n                 start_time,\n                 end_time,\n                 unavailability_1_start=None,\n                 unavailability_1_end=None,\n                 unavailability_2_start=None,\n                 unavailability_2_end=None,\n                 unavailability_3_start=None,\n                 unavailability_3_end=None):\n        '''\n        Params:\n        --------\n\n        name: str\n            Name of shift type\n            (e.g. early, late, all day)\n\n        start_time: str\n            Time the shift begins\n            Pass in the form HH:MM\n\n        end_time: str\n            Time the shift ends\n            Pass in the form HH:MM\n\n        unavailability_1_start: str (OPTIONAL)\n            Time the first period of unavailability starts\n            Pass in the form HH:MM\n\n        unavailability_1_end: str (OPTIONAL)\n            Time the first period of unavailability ends\n            Pass in the form HH:MM\n\n        unavailability_2_start: str (OPTIONAL)\n            Time the second period of unavailability starts\n            Pass in the form HH:MM            \n\n        unavailability_2_end: str (OPTIONAL)\n            Time the second period of unavailability ends\n            Pass in the form HH:MM\n\n\n        unavailability_3_start: str (OPTIONAL)\n            Time the third period of unavailability starts\n            Pass in the form HH:MM\n            \n        unavailability_3_end: str (OPTIONAL)\n            Time the third period of unavailability ends\n            Pass in the form HH:MM\n        '''\n\n        self.name = name\n        self.id = id\n        self.name_plottable = name.replace('_', ' ').title()\n\n        self.start_time = self.try_datetime_parse(start_time)\n        self.end_time = self.try_datetime_parse(end_time)\n\n        self.unavailability_1_start = self.try_datetime_parse(unavailability_1_start)\n        self.unavailability_1_end = self.try_datetime_parse(unavailability_1_end)\n\n        self.unavailability_2_start = self.try_datetime_parse(unavailability_2_start)\n        self.unavailability_2_end = self.try_datetime_parse(unavailability_2_end)\n\n        self.unavailability_3_start = self.try_datetime_parse(unavailability_3_start)\n        self.unavailability_3_end = self.try_datetime_parse(unavailability_3_end)\n\n    def try_datetime_parse(self, time_string):\n        if time_string not in [None, 'null', ' ']:\n            return parser.parse(time_string).time()\n        else:\n            return None\n\n    def decimal_time(self, time_of_interest):\n        requested_time = getattr(self, time_of_interest)\n        if requested_time is not None:\n            return requested_time.hour + (requested_time.minute/60)\n        else:\n            return None\n\n    def shift_type_dataframe(self):\n        data = {\n            'start_time': self.start_time,\n            'end_time': self.end_time,\n            'unavailability_1_start': self.unavailability_1_start,\n            'unavailability_1_end': self.unavailability_1_end,\n            'unavailability_2_start': self.unavailability_2_start,\n            'unavailability_2_end': self.unavailability_2_end,\n            'unavailability_3_start': self.unavailability_3_start,\n            'unavailability_3_end': self.unavailability_3_end,\n        }\n        \n        return pd.DataFrame.from_dict(\n            data=data, \n            orient='index', \n            columns = [self.name]\n            ) \n\n\ndef create_shift_objects(user_session):\n    queryset = Shift.objects.filter(user_session=user_session)\n\n    shift_type_list = []\n\n    for shift_object in queryset:\n        shift_type_list.append(\n            ShiftTypeClass(\n                name = shift_object.shift_type_name,\n                id = shift_object.id,\n                start_time = shift_object.shift_start_time,\n                end_time = shift_object.shift_end_time,\n                unavailability_1_start = shift_object.break_1_start,\n                unavailability_1_end = shift_object.break_1_end,\n                unavailability_2_start = shift_object.break_2_start,\n                unavailability_2_end = shift_object.break_2_end,\n                unavailability_3_start = shift_object.break_3_start,\n                unavailability_3_end = shift_object.break_3_end\n            )\n        )\n\n    return shift_type_list",
   "execution_count": 4,
   "outputs": []
  },
  {
   "cell_type": "code",
   "metadata": {
    "tags": [],
    "cell_id": "00004-04dad9aa-7bed-46dd-9cdb-0208ea57863b",
    "deepnote_to_be_reexecuted": false,
    "source_hash": "3c0d17a3",
    "execution_start": 1627508183523,
    "execution_millis": 1,
    "deepnote_cell_type": "code"
   },
   "source": "class StreamClass:\n    def __init__(self, stream_name, id, stream_priority, time_for_decision):\n        self.stream_name = stream_name\n        self.id = id\n        self.stream_priority = stream_priority\n        self.time_for_decision = time_for_decision",
   "execution_count": 5,
   "outputs": []
  },
  {
   "cell_type": "markdown",
   "source": "# Create from json",
   "metadata": {
    "tags": [],
    "cell_id": "00005-867b992d-76f3-48f2-a8fe-1b541f600f1e",
    "deepnote_cell_type": "markdown"
   }
  },
  {
   "cell_type": "code",
   "metadata": {
    "tags": [],
    "cell_id": "00006-dc25b2bc-a21f-46a5-9dc0-90f048547fed",
    "deepnote_to_be_reexecuted": false,
    "source_hash": "65843b3b",
    "execution_start": 1627508183524,
    "execution_millis": 48,
    "deepnote_cell_type": "code"
   },
   "source": "def create_role_objects_from_json(role_json):\n\n    role_list = []\n\n    for role_object in role_json:\n        role_list.append(\n            RoleClass(\n                role_name = role_object['role_name'],\n                id = role_object['id'],\n                decisions_per_hour_per_stream = role_object['decisions_per_hour_per_stream']\n            )\n        )\n\n    return role_list",
   "execution_count": 6,
   "outputs": []
  },
  {
   "cell_type": "code",
   "metadata": {
    "tags": [],
    "cell_id": "00006-a5f573f7-96f8-4ffa-8279-9367ab6ad401",
    "deepnote_to_be_reexecuted": false,
    "source_hash": "a21662ed",
    "execution_start": 1627508183573,
    "execution_millis": 0,
    "deepnote_cell_type": "code"
   },
   "source": "def create_shift_objects_from_json(shift_json):\n\n    shift_type_list = []\n\n    for shift_object in shift_json:\n        shift_type_list.append(\n            ShiftTypeClass(\n                name = shift_object['shift_type_name'],\n                id = shift_object['id'],\n                start_time = shift_object['shift_start_time'],\n                end_time = shift_object['shift_end_time'],\n                unavailability_1_start = shift_object['break_1_start'],\n                unavailability_1_end = shift_object['break_1_end'],\n                unavailability_2_start = shift_object['break_2_start'],\n                unavailability_2_end = shift_object['break_2_end'],\n                unavailability_3_start = shift_object['break_3_start'],\n                unavailability_3_end = shift_object['break_3_end']\n            )\n        )\n\n    return shift_type_list",
   "execution_count": 7,
   "outputs": []
  },
  {
   "cell_type": "code",
   "metadata": {
    "tags": [],
    "cell_id": "00006-893f594f-ced2-4c59-9f6c-7c2773279499",
    "deepnote_to_be_reexecuted": false,
    "source_hash": "71796c6f",
    "execution_start": 1627508183573,
    "execution_millis": 29,
    "deepnote_cell_type": "code"
   },
   "source": "def create_rota_objects_from_json(shift_list, role_list, rota_json):\n\n    def find_role_by_id(role):\n        try:\n            for role_object in role_list:\n                if role_object.id == role['id']:\n                    return role_object\n        except TypeError:\n            return None\n    \n    def find_shift_by_id(shift):\n        try:\n            for shift_object in shift_list:\n                if shift_object.id == shift['id']:\n                    return shift_object\n        except TypeError:\n            return None\n\n\n\n    rota_entry_list = []\n\n    for rota_object in rota_json:\n        rota_entry_list.append(\n            RotaEntryClass(\n                role = find_role_by_id(rota_object['role_type']),\n                core = rota_object['resource_type'],\n                name = rota_object['resource_name'],\n                id = rota_object['id'],\n\n                prev_week = find_shift_by_id(rota_object['prev_week']),\n                monday = find_shift_by_id(rota_object['monday']),\n                tuesday = find_shift_by_id(rota_object['tuesday']),\n                wednesday = find_shift_by_id(rota_object['wednesday']),\n                thursday = find_shift_by_id(rota_object['thursday']),\n                friday = find_shift_by_id(rota_object['friday']),\n                saturday = find_shift_by_id(rota_object['saturday']),\n                sunday = find_shift_by_id(rota_object['sunday']),\n            )\n        )\n\n    return rota_entry_list",
   "execution_count": 8,
   "outputs": []
  },
  {
   "cell_type": "code",
   "metadata": {
    "tags": [],
    "cell_id": "00009-0e593618-8f04-4eed-8d89-4aa22b1098c4",
    "deepnote_to_be_reexecuted": false,
    "source_hash": "fc596e3d",
    "execution_start": 1627508183602,
    "execution_millis": 0,
    "deepnote_cell_type": "code"
   },
   "source": "def create_stream_objects_from_json(stream_json):\n\n    stream_list = []\n\n    for stream_object in stream_json:\n        stream_list.append(\n            StreamClass(\n                stream_name = stream_object['stream_name'],\n                id = stream_object['id'],\n                stream_priority = stream_object['stream_priority'],\n                time_for_decision = stream_object['time_for_decision']\n            )\n        )\n\n    return stream_list",
   "execution_count": 9,
   "outputs": []
  },
  {
   "cell_type": "markdown",
   "source": "# Create lists",
   "metadata": {
    "tags": [],
    "cell_id": "00007-f04b9ce1-cc6c-419c-8b2e-0e131f887ac9",
    "deepnote_cell_type": "markdown"
   }
  },
  {
   "cell_type": "markdown",
   "source": "## Streams",
   "metadata": {
    "tags": [],
    "cell_id": "00011-517e9348-a801-4efb-ba6f-3b10f0d5b0df",
    "deepnote_cell_type": "markdown"
   }
  },
  {
   "cell_type": "code",
   "metadata": {
    "tags": [],
    "cell_id": "00012-69beba26-bc49-4a54-8248-26a7f4aa78a3",
    "deepnote_to_be_reexecuted": false,
    "source_hash": "98c278af",
    "execution_start": 1627508183603,
    "execution_millis": 0,
    "deepnote_cell_type": "code"
   },
   "source": "with open('get-historic-data-streams-from-db.json', 'r') as j:\n     stream_json = json.loads(j.read())",
   "execution_count": 10,
   "outputs": []
  },
  {
   "cell_type": "code",
   "metadata": {
    "tags": [],
    "cell_id": "00013-410f57c4-2e74-4f10-9d4c-6595b3dba304",
    "deepnote_to_be_reexecuted": false,
    "source_hash": "6e7af6cb",
    "execution_start": 1627508183604,
    "execution_millis": 0,
    "deepnote_cell_type": "code"
   },
   "source": "stream_list = create_stream_objects_from_json(stream_json)",
   "execution_count": 11,
   "outputs": []
  },
  {
   "cell_type": "code",
   "metadata": {
    "tags": [],
    "cell_id": "00014-4a6a42f6-617f-4f63-bd34-dca4116c7b0b",
    "deepnote_to_be_reexecuted": false,
    "source_hash": "4bf0e7bf",
    "execution_start": 1627508183653,
    "execution_millis": 0,
    "deepnote_cell_type": "code"
   },
   "source": "stream_list",
   "execution_count": 12,
   "outputs": [
    {
     "output_type": "execute_result",
     "execution_count": 12,
     "data": {
      "text/plain": "[<__main__.StreamClass at 0x7f0574a084d0>,\n <__main__.StreamClass at 0x7f0574a08510>,\n <__main__.StreamClass at 0x7f0574a08550>]"
     },
     "metadata": {}
    }
   ]
  },
  {
   "cell_type": "markdown",
   "source": "## Roles",
   "metadata": {
    "tags": [],
    "cell_id": "00009-cd9a4f3b-22f9-487f-ac22-f832f1d5526f",
    "deepnote_cell_type": "markdown"
   }
  },
  {
   "cell_type": "code",
   "metadata": {
    "tags": [],
    "cell_id": "00009-fca4d2b0-3246-4200-a1da-0478572c700f",
    "deepnote_to_be_reexecuted": false,
    "source_hash": "fb416387",
    "execution_start": 1627508183654,
    "execution_millis": 8,
    "deepnote_cell_type": "code"
   },
   "source": "with open('own-role-types.json', 'r') as j:\n     role_json = json.loads(j.read())",
   "execution_count": 13,
   "outputs": []
  },
  {
   "cell_type": "code",
   "metadata": {
    "tags": [],
    "cell_id": "00010-7e950d6b-0c2c-41ec-9187-eff6c9ccbe9c",
    "deepnote_to_be_reexecuted": false,
    "source_hash": "1394a005",
    "execution_start": 1627508183655,
    "execution_millis": 0,
    "deepnote_cell_type": "code"
   },
   "source": "role_list = create_role_objects_from_json(role_json)",
   "execution_count": 14,
   "outputs": []
  },
  {
   "cell_type": "code",
   "metadata": {
    "tags": [],
    "cell_id": "00011-89d44f45-0684-4631-a132-86c4685a1925",
    "deepnote_to_be_reexecuted": false,
    "source_hash": "bfdb488d",
    "execution_start": 1627508183657,
    "execution_millis": 16,
    "deepnote_cell_type": "code"
   },
   "source": "role_list",
   "execution_count": 15,
   "outputs": [
    {
     "output_type": "execute_result",
     "execution_count": 15,
     "data": {
      "text/plain": "[<__main__.RoleClass at 0x7f0574a72cd0>,\n <__main__.RoleClass at 0x7f0574a72d90>,\n <__main__.RoleClass at 0x7f0574a72d50>]"
     },
     "metadata": {}
    }
   ]
  },
  {
   "cell_type": "markdown",
   "source": "## Shifts",
   "metadata": {
    "tags": [],
    "cell_id": "00013-44c96386-d2be-41b5-b9ca-6bf9fc31883f",
    "deepnote_cell_type": "markdown"
   }
  },
  {
   "cell_type": "code",
   "metadata": {
    "tags": [],
    "cell_id": "00014-b2c464ed-8dd8-4ae1-b226-76100c814d37",
    "deepnote_to_be_reexecuted": false,
    "source_hash": "7eecf935",
    "execution_start": 1627508183665,
    "execution_millis": 2,
    "deepnote_cell_type": "code"
   },
   "source": "with open('own-shift-types.json', 'r') as j:\n     shift_json = json.loads(j.read())",
   "execution_count": 16,
   "outputs": []
  },
  {
   "cell_type": "code",
   "metadata": {
    "tags": [],
    "cell_id": "00015-7e43ab8a-cd1e-4063-98b9-f08b6a2b27ac",
    "deepnote_to_be_reexecuted": false,
    "source_hash": "676fa79b",
    "execution_start": 1627508183750,
    "execution_millis": 0,
    "deepnote_cell_type": "code"
   },
   "source": "shift_list = create_shift_objects_from_json(shift_json)",
   "execution_count": 17,
   "outputs": []
  },
  {
   "cell_type": "code",
   "metadata": {
    "tags": [],
    "cell_id": "00016-7de1a688-711c-4cdf-8097-5dfa38337700",
    "deepnote_to_be_reexecuted": false,
    "source_hash": "e66bad10",
    "execution_start": 1627508183751,
    "execution_millis": 111,
    "deepnote_cell_type": "code"
   },
   "source": "shift_list",
   "execution_count": 18,
   "outputs": [
    {
     "output_type": "execute_result",
     "execution_count": 18,
     "data": {
      "text/plain": "[<__main__.ShiftTypeClass at 0x7f0574a1ddd0>,\n <__main__.ShiftTypeClass at 0x7f0574a1ded0>,\n <__main__.ShiftTypeClass at 0x7f0574a1dfd0>,\n <__main__.ShiftTypeClass at 0x7f0574a1df90>]"
     },
     "metadata": {}
    }
   ]
  },
  {
   "cell_type": "markdown",
   "source": "## Rotas",
   "metadata": {
    "tags": [],
    "cell_id": "00013-dab33c18-3d13-427d-8eed-dcaf5b0a9f15",
    "deepnote_cell_type": "markdown"
   }
  },
  {
   "cell_type": "code",
   "metadata": {
    "tags": [],
    "cell_id": "00001-690eb75f-88ce-4deb-9f26-cfe6ecad5a0f",
    "deepnote_to_be_reexecuted": false,
    "source_hash": "acffcedd",
    "execution_start": 1627508183751,
    "execution_millis": 1,
    "deepnote_cell_type": "code"
   },
   "source": "with open('own-rota-entries-detailed.json', 'r') as j:\n     rota_json = json.loads(j.read())",
   "execution_count": 19,
   "outputs": []
  },
  {
   "cell_type": "code",
   "metadata": {
    "tags": [],
    "cell_id": "00019-74f3c1b1-8f16-4287-b2fc-381c4957606d",
    "deepnote_to_be_reexecuted": false,
    "source_hash": "9b970056",
    "execution_start": 1627508183752,
    "execution_millis": 110,
    "deepnote_cell_type": "code"
   },
   "source": "rota_json ",
   "execution_count": 20,
   "outputs": [
    {
     "output_type": "execute_result",
     "execution_count": 20,
     "data": {
      "text/plain": "[{'id': 4,\n  'prev_week': None,\n  'monday': None,\n  'tuesday': None,\n  'wednesday': None,\n  'thursday': None,\n  'friday': {'id': 9,\n   'user_session': 'vcg4ebb7rk5wfunt0y4iasnz58mdurvm',\n   'shift_type_name': 'Late',\n   'shift_start_time': '2021-01-01T18:00:00.000Z',\n   'shift_end_time': '2021-01-01T02:00:00.000Z',\n   'break_1_start': 'null',\n   'break_1_end': 'null',\n   'break_2_start': 'null',\n   'break_2_end': 'null',\n   'break_3_start': 'null',\n   'break_3_end': 'null'},\n  'saturday': None,\n  'sunday': None,\n  'role_type': {'id': 11,\n   'user_session': 'vcg4ebb7rk5wfunt0y4iasnz58mdurvm',\n   'role_name': 'Band 5',\n   'decisions_per_hour_per_stream': [{'stream_name': 'Resus',\n     'stream_object_id': 201,\n     'decisions_per_hour': 0},\n    {'stream_name': 'Majors',\n     'stream_object_id': 199,\n     'decisions_per_hour': 0},\n    {'stream_name': 'Minors',\n     'stream_object_id': 200,\n     'decisions_per_hour': '0.5'}]},\n  'user_session': 'vcg4ebb7rk5wfunt0y4iasnz58mdurvm',\n  'resource_name': 'Dr Carling',\n  'resource_type': 'core'},\n {'id': 5,\n  'prev_week': None,\n  'monday': None,\n  'tuesday': {'id': 7,\n   'user_session': 'vcg4ebb7rk5wfunt0y4iasnz58mdurvm',\n   'shift_type_name': 'Early',\n   'shift_start_time': '2021-01-01T06:00:00.000Z',\n   'shift_end_time': '2021-01-01T16:00:00.000Z',\n   'break_1_start': 'null',\n   'break_1_end': 'null',\n   'break_2_start': 'null',\n   'break_2_end': 'null',\n   'break_3_start': 'null',\n   'break_3_end': 'null'},\n  'wednesday': {'id': 8,\n   'user_session': 'vcg4ebb7rk5wfunt0y4iasnz58mdurvm',\n   'shift_type_name': 'Day',\n   'shift_start_time': '2021-01-01T09:00:00.000Z',\n   'shift_end_time': '2021-01-01T18:00:00.000Z',\n   'break_1_start': 'null',\n   'break_1_end': 'null',\n   'break_2_start': 'null',\n   'break_2_end': 'null',\n   'break_3_start': 'null',\n   'break_3_end': 'null'},\n  'thursday': None,\n  'friday': None,\n  'saturday': {'id': 7,\n   'user_session': 'vcg4ebb7rk5wfunt0y4iasnz58mdurvm',\n   'shift_type_name': 'Early',\n   'shift_start_time': '2021-01-01T06:00:00.000Z',\n   'shift_end_time': '2021-01-01T16:00:00.000Z',\n   'break_1_start': 'null',\n   'break_1_end': 'null',\n   'break_2_start': 'null',\n   'break_2_end': 'null',\n   'break_3_start': 'null',\n   'break_3_end': 'null'},\n  'sunday': None,\n  'role_type': {'id': 9,\n   'user_session': 'vcg4ebb7rk5wfunt0y4iasnz58mdurvm',\n   'role_name': 'Consultant Resus',\n   'decisions_per_hour_per_stream': [{'stream_name': 'Resus',\n     'stream_object_id': 201,\n     'decisions_per_hour': '1'},\n    {'stream_name': 'Majors',\n     'stream_object_id': 199,\n     'decisions_per_hour': 0},\n    {'stream_name': 'Minors',\n     'stream_object_id': 200,\n     'decisions_per_hour': 0}]},\n  'user_session': 'vcg4ebb7rk5wfunt0y4iasnz58mdurvm',\n  'resource_name': 'Dr Jones',\n  'resource_type': 'core'},\n {'id': 6,\n  'prev_week': None,\n  'monday': None,\n  'tuesday': None,\n  'wednesday': None,\n  'thursday': {'id': 7,\n   'user_session': 'vcg4ebb7rk5wfunt0y4iasnz58mdurvm',\n   'shift_type_name': 'Early',\n   'shift_start_time': '2021-01-01T06:00:00.000Z',\n   'shift_end_time': '2021-01-01T16:00:00.000Z',\n   'break_1_start': 'null',\n   'break_1_end': 'null',\n   'break_2_start': 'null',\n   'break_2_end': 'null',\n   'break_3_start': 'null',\n   'break_3_end': 'null'},\n  'friday': {'id': 7,\n   'user_session': 'vcg4ebb7rk5wfunt0y4iasnz58mdurvm',\n   'shift_type_name': 'Early',\n   'shift_start_time': '2021-01-01T06:00:00.000Z',\n   'shift_end_time': '2021-01-01T16:00:00.000Z',\n   'break_1_start': 'null',\n   'break_1_end': 'null',\n   'break_2_start': 'null',\n   'break_2_end': 'null',\n   'break_3_start': 'null',\n   'break_3_end': 'null'},\n  'saturday': {'id': 7,\n   'user_session': 'vcg4ebb7rk5wfunt0y4iasnz58mdurvm',\n   'shift_type_name': 'Early',\n   'shift_start_time': '2021-01-01T06:00:00.000Z',\n   'shift_end_time': '2021-01-01T16:00:00.000Z',\n   'break_1_start': 'null',\n   'break_1_end': 'null',\n   'break_2_start': 'null',\n   'break_2_end': 'null',\n   'break_3_start': 'null',\n   'break_3_end': 'null'},\n  'sunday': {'id': 7,\n   'user_session': 'vcg4ebb7rk5wfunt0y4iasnz58mdurvm',\n   'shift_type_name': 'Early',\n   'shift_start_time': '2021-01-01T06:00:00.000Z',\n   'shift_end_time': '2021-01-01T16:00:00.000Z',\n   'break_1_start': 'null',\n   'break_1_end': 'null',\n   'break_2_start': 'null',\n   'break_2_end': 'null',\n   'break_3_start': 'null',\n   'break_3_end': 'null'},\n  'role_type': {'id': 11,\n   'user_session': 'vcg4ebb7rk5wfunt0y4iasnz58mdurvm',\n   'role_name': 'Band 5',\n   'decisions_per_hour_per_stream': [{'stream_name': 'Resus',\n     'stream_object_id': 201,\n     'decisions_per_hour': 0},\n    {'stream_name': 'Majors',\n     'stream_object_id': 199,\n     'decisions_per_hour': 0},\n    {'stream_name': 'Minors',\n     'stream_object_id': 200,\n     'decisions_per_hour': '0.5'}]},\n  'user_session': 'vcg4ebb7rk5wfunt0y4iasnz58mdurvm',\n  'resource_name': 'Dr Beatty',\n  'resource_type': 'core'},\n {'id': 7,\n  'prev_week': None,\n  'monday': None,\n  'tuesday': None,\n  'wednesday': None,\n  'thursday': {'id': 9,\n   'user_session': 'vcg4ebb7rk5wfunt0y4iasnz58mdurvm',\n   'shift_type_name': 'Late',\n   'shift_start_time': '2021-01-01T18:00:00.000Z',\n   'shift_end_time': '2021-01-01T02:00:00.000Z',\n   'break_1_start': 'null',\n   'break_1_end': 'null',\n   'break_2_start': 'null',\n   'break_2_end': 'null',\n   'break_3_start': 'null',\n   'break_3_end': 'null'},\n  'friday': {'id': 10,\n   'user_session': 'vcg4ebb7rk5wfunt0y4iasnz58mdurvm',\n   'shift_type_name': 'Overnight',\n   'shift_start_time': '2021-01-01T22:30:00.000Z',\n   'shift_end_time': '2021-01-01T06:30:00.000Z',\n   'break_1_start': 'null',\n   'break_1_end': 'null',\n   'break_2_start': 'null',\n   'break_2_end': 'null',\n   'break_3_start': 'null',\n   'break_3_end': 'null'},\n  'saturday': None,\n  'sunday': None,\n  'role_type': {'id': 9,\n   'user_session': 'vcg4ebb7rk5wfunt0y4iasnz58mdurvm',\n   'role_name': 'Consultant Resus',\n   'decisions_per_hour_per_stream': [{'stream_name': 'Resus',\n     'stream_object_id': 201,\n     'decisions_per_hour': '1'},\n    {'stream_name': 'Majors',\n     'stream_object_id': 199,\n     'decisions_per_hour': 0},\n    {'stream_name': 'Minors',\n     'stream_object_id': 200,\n     'decisions_per_hour': 0}]},\n  'user_session': 'vcg4ebb7rk5wfunt0y4iasnz58mdurvm',\n  'resource_name': 'Dr Tyler',\n  'resource_type': 'core'},\n {'id': 9,\n  'prev_week': None,\n  'monday': {'id': 9,\n   'user_session': 'vcg4ebb7rk5wfunt0y4iasnz58mdurvm',\n   'shift_type_name': 'Late',\n   'shift_start_time': '2021-01-01T18:00:00.000Z',\n   'shift_end_time': '2021-01-01T02:00:00.000Z',\n   'break_1_start': 'null',\n   'break_1_end': 'null',\n   'break_2_start': 'null',\n   'break_2_end': 'null',\n   'break_3_start': 'null',\n   'break_3_end': 'null'},\n  'tuesday': None,\n  'wednesday': None,\n  'thursday': None,\n  'friday': None,\n  'saturday': None,\n  'sunday': None,\n  'role_type': {'id': 10,\n   'user_session': 'vcg4ebb7rk5wfunt0y4iasnz58mdurvm',\n   'role_name': 'FY2 Minors',\n   'decisions_per_hour_per_stream': [{'stream_name': 'Resus',\n     'stream_object_id': 201,\n     'decisions_per_hour': 0},\n    {'stream_name': 'Majors',\n     'stream_object_id': 199,\n     'decisions_per_hour': 0},\n    {'stream_name': 'Minors',\n     'stream_object_id': 200,\n     'decisions_per_hour': '1'}]},\n  'user_session': 'vcg4ebb7rk5wfunt0y4iasnz58mdurvm',\n  'resource_name': 'Mr Monday',\n  'resource_type': 'core'},\n {'id': 10,\n  'prev_week': None,\n  'monday': {'id': 8,\n   'user_session': 'vcg4ebb7rk5wfunt0y4iasnz58mdurvm',\n   'shift_type_name': 'Day',\n   'shift_start_time': '2021-01-01T09:00:00.000Z',\n   'shift_end_time': '2021-01-01T18:00:00.000Z',\n   'break_1_start': 'null',\n   'break_1_end': 'null',\n   'break_2_start': 'null',\n   'break_2_end': 'null',\n   'break_3_start': 'null',\n   'break_3_end': 'null'},\n  'tuesday': None,\n  'wednesday': None,\n  'thursday': None,\n  'friday': None,\n  'saturday': None,\n  'sunday': None,\n  'role_type': {'id': 10,\n   'user_session': 'vcg4ebb7rk5wfunt0y4iasnz58mdurvm',\n   'role_name': 'FY2 Minors',\n   'decisions_per_hour_per_stream': [{'stream_name': 'Resus',\n     'stream_object_id': 201,\n     'decisions_per_hour': 0},\n    {'stream_name': 'Majors',\n     'stream_object_id': 199,\n     'decisions_per_hour': 0},\n    {'stream_name': 'Minors',\n     'stream_object_id': 200,\n     'decisions_per_hour': '1'}]},\n  'user_session': 'vcg4ebb7rk5wfunt0y4iasnz58mdurvm',\n  'resource_name': 'Herr Montag',\n  'resource_type': 'ad hoc'},\n {'id': 11,\n  'prev_week': {'id': 10,\n   'user_session': 'vcg4ebb7rk5wfunt0y4iasnz58mdurvm',\n   'shift_type_name': 'Overnight',\n   'shift_start_time': '2021-01-01T22:30:00.000Z',\n   'shift_end_time': '2021-01-01T06:30:00.000Z',\n   'break_1_start': 'null',\n   'break_1_end': 'null',\n   'break_2_start': 'null',\n   'break_2_end': 'null',\n   'break_3_start': 'null',\n   'break_3_end': 'null'},\n  'monday': None,\n  'tuesday': None,\n  'wednesday': None,\n  'thursday': None,\n  'friday': None,\n  'saturday': None,\n  'sunday': {'id': 10,\n   'user_session': 'vcg4ebb7rk5wfunt0y4iasnz58mdurvm',\n   'shift_type_name': 'Overnight',\n   'shift_start_time': '2021-01-01T22:30:00.000Z',\n   'shift_end_time': '2021-01-01T06:30:00.000Z',\n   'break_1_start': 'null',\n   'break_1_end': 'null',\n   'break_2_start': 'null',\n   'break_2_end': 'null',\n   'break_3_start': 'null',\n   'break_3_end': 'null'},\n  'role_type': {'id': 9,\n   'user_session': 'vcg4ebb7rk5wfunt0y4iasnz58mdurvm',\n   'role_name': 'Consultant Resus',\n   'decisions_per_hour_per_stream': [{'stream_name': 'Resus',\n     'stream_object_id': 201,\n     'decisions_per_hour': '1'},\n    {'stream_name': 'Majors',\n     'stream_object_id': 199,\n     'decisions_per_hour': 0},\n    {'stream_name': 'Minors',\n     'stream_object_id': 200,\n     'decisions_per_hour': 0}]},\n  'user_session': 'vcg4ebb7rk5wfunt0y4iasnz58mdurvm',\n  'resource_name': 'Monsieur Dimanche',\n  'resource_type': 'ad hoc'}]"
     },
     "metadata": {}
    }
   ]
  },
  {
   "cell_type": "code",
   "metadata": {
    "tags": [],
    "cell_id": "00002-26037bb9-bee2-4cf5-8ff4-097a4d8623db",
    "deepnote_to_be_reexecuted": false,
    "source_hash": "be7a5130",
    "execution_start": 1627508183758,
    "execution_millis": 0,
    "deepnote_cell_type": "code"
   },
   "source": "rota_entry_list = create_rota_objects_from_json(shift_list, role_list, rota_json)",
   "execution_count": 21,
   "outputs": []
  },
  {
   "cell_type": "code",
   "metadata": {
    "tags": [],
    "cell_id": "00021-c38fe316-eb5b-402c-84e3-3541f8e34ca4",
    "deepnote_to_be_reexecuted": false,
    "source_hash": "2b4e8fb",
    "execution_start": 1627508183782,
    "execution_millis": 80,
    "deepnote_cell_type": "code"
   },
   "source": "rota_entry_list",
   "execution_count": 22,
   "outputs": [
    {
     "output_type": "execute_result",
     "execution_count": 22,
     "data": {
      "text/plain": "[<__main__.RotaEntryClass at 0x7f0574a2fd50>,\n <__main__.RotaEntryClass at 0x7f0574a2fd90>,\n <__main__.RotaEntryClass at 0x7f0574a2f150>,\n <__main__.RotaEntryClass at 0x7f0574a2fe10>,\n <__main__.RotaEntryClass at 0x7f0574a2fe50>,\n <__main__.RotaEntryClass at 0x7f0574a2fd10>,\n <__main__.RotaEntryClass at 0x7f0574a2ff50>]"
     },
     "metadata": {}
    }
   ]
  },
  {
   "cell_type": "markdown",
   "source": "# Calculate hourly capacity\n",
   "metadata": {
    "tags": [],
    "cell_id": "00029-5b89351b-3d14-4b7b-97fa-c82c5ff89772",
    "deepnote_cell_type": "markdown"
   }
  },
  {
   "cell_type": "code",
   "metadata": {
    "tags": [],
    "cell_id": "00030-6ed86dfe-1b9e-46f4-af9b-ae939ad14a76",
    "deepnote_to_be_reexecuted": false,
    "source_hash": "a1ac8d0b",
    "execution_start": 1627508183830,
    "execution_millis": 0,
    "deepnote_cell_type": "code"
   },
   "source": "start_date = datetime(2021, 7, 16)",
   "execution_count": 23,
   "outputs": []
  },
  {
   "cell_type": "code",
   "metadata": {
    "tags": [],
    "cell_id": "00031-be08c041-9418-4389-8c52-979cea0b110e",
    "deepnote_to_be_reexecuted": false,
    "source_hash": "d9fec03e",
    "execution_start": 1627508183831,
    "execution_millis": 0,
    "deepnote_cell_type": "code"
   },
   "source": "datetime_index = pd.date_range(start_date - timedelta(days=1),\n                               start_date + timedelta(days=7),\n                               freq='h')[:-1]",
   "execution_count": 24,
   "outputs": []
  },
  {
   "cell_type": "code",
   "metadata": {
    "tags": [],
    "cell_id": "00030-d30fd77d-0a08-491b-9558-048a13a5f3b6",
    "deepnote_to_be_reexecuted": false,
    "source_hash": "ebf436db",
    "execution_start": 1627508535669,
    "execution_millis": 49,
    "deepnote_cell_type": "code"
   },
   "source": "# Set up empty dictionaries that will be used to record key:value pairs\n# of stream: data\noverall_decisions_per_hour = {}\noverall_resources = {}\n\nfor resource in rota_entry_list:\n    print(f\"Working on resource {resource.name}\")\n\n    # Set up empty lists for storing stream-level data\n    stream_decisions_per_hour = {}\n    stream_resources = {}\n\n    # Iterate through the streams\n    streams_in_data_names = [stream.stream_name for stream in stream_list]\n\n    for stream in streams_in_data_names:\n        # Create lists for storing an individual day's data\n        decisions_per_hour = []\n        resources = []\n        \n        # Get the number of decisions that can be made per hour for this stream\n        decisions_per_hour_for_stream = float(\n            # Get the relevant item for the stream\n            next((item \n                  for item \n                  in resource.role.decisions_per_hour_per_stream \n                  if item[\"stream_name\"] == stream), \n                  # Default to return if not found (should always be found, but worth handling)\n                  None)\n                  # Grab just the decisions_per_hour data for that stream\n                  ['decisions_per_hour']\n        ) \n\n        # Check that it's worth continuing with calculations at this stage\n        # for this stream for this resource (i.e. that they will not just\n        # be zero for the whole week)\n        if (decisions_per_hour_for_stream is not None) \\\n            and (decisions_per_hour_for_stream != 0):\n            print(f\"Working on stream {stream} with {decisions_per_hour_for_stream} decision(s) per hour\")\n\n            # For the first day, the hours since midnight worked will be zero\n            hours_from_midnight_already_worked = None\n\n            # Begin iterating through days of the week, including 'prev_week'\n            # which is used to account for any overnight shifts that finish on\n            # Monday \n            for day in ['prev_week', 'monday', 'tuesday', \n                        'wednesday', 'thursday', 'friday', \n                        'saturday', 'sunday']:\n                \n                # Get shift data for the resource on this day\n                shift = (getattr(resource, day))\n\n                if shift is None:\n                    # Create a list with '0' for the full day\n                    decisions_per_hour.extend([0 for i in range(24)])\n                    resources.extend([0 for i in range(24)])\n                \n                if shift is not None:\n                    print(f\"Working on {day} shift\")\n\n                    # Add the appropriate number of zeros,\n                    # for hours not worked, then continue on\n                    print(f\"Start time for shift: {shift.start_time.hour}:00\")\n                    print(f\"End time for shift: {shift.end_time.hour}:00\")\n                    if hours_from_midnight_already_worked == None:\n                        # Work out how many hours to append 0 for\n                        empty_hours = shift.start_time.hour - 1\n                    else:\n                        empty_hours = shift.start_time.hour - 1 - hours_from_midnight_already_worked\n                    \n                    decisions_per_hour.extend([0 for i in range(empty_hours)])\n                    resources.extend([0 for i in range(empty_hours)])\n                    \n                    # ---- Deal with the hours that decision-making capability will be available in ---- #\n                    \n                    # Check whether fractional capacity needs to be added for shifts that don't START on the hour\n                    if shift.start_time.hour % 1 != 0:\n                        decisions_per_hour.extend([(shift.start_time.hour % 1) * decisions_per_hour_for_stream])\n                        resources.extend([shift.start_time.hour % 1])\n                    \n                    # If shift doesn't span midnight\n                    if shift.start_time < shift.end_time:\n                        if shift.start_time.hour % 1 != 0:\n                            # Deduct one hour from the working hours to account for the fraction\n                            working_hours = (shift.end_time.hour - shift.start_time.hour) - 1\n                        else: \n                            # If no fractional start time, working hours are just the total number of hours\n                            working_hours = (shift.end_time.hour - shift.start_time.hour)\n                    # If shift does span midnight:\n                    elif shift.start_time > shift.end_time:\n                        working_hours = (24 - shift.start_time.hour) + shift.end_time.hour\n                    \n                    \n                    # Append data for the number of working hours\n                    decisions_per_hour.extend([decisions_per_hour_for_stream for i in range(working_hours)])\n                    print(f\"Dph: {[decisions_per_hour_for_stream for i in range(working_hours)]}\") \n                    resources.extend([1 for i in range(working_hours)])\n                    print(f\"Resources: {[1 for i in range(working_hours)]}\") \n                    \n                    # Check whether fractional capacity needs to be added for shifts that don't END on the hour\n                    if shift.end_time.hour % 1 != 0:\n                        decisions_per_hour.extend((shift.end_time.hour % 1) * decisions_per_hour_for_stream)\n                        resources.extend((shift.end_time.hour % 1))\n\n                    # If shift doesn't span midnight\n                    if shift.start_time < shift.end_time:\n                        # Fill in the remaining hours until midnight with zeros\n                        remaining_hours = 24 - shift.end_time.hour\n                        decisions_per_hour.extend([0 for i in range(remaining_hours)])\n                        resources.extend([0 for i in range(remaining_hours)])\n\n                        hours_from_midnight_already_worked = None\n\n                    # If shift start time is bigger than shift end time, this implies shift spans midnight, so the next day\n                    # will need to be dealt with slightly differently\n                    elif shift.start_time > shift.end_time:\n                        if (shift.end_time.hour % 1) != 0:  \n                            hours_from_midnight_already_worked = shift.end_time.hour + 1\n                        else:\n                            hours_from_midnight_already_worked = shift.end_time.hour\n                              \n\n\n\n            \n                    # print(shift.end_time.hour)\n\n        else:\n            decisions_per_hour = [0 for i in range(24*8)]\n            resources = [0 for i in range(24*8)]\n\n        # TODO: Check indentation\n        stream_decisions_per_hour[stream] = decisions_per_hour\n        if len(decisions_per_hour) != 192:\n            print(f\"Length of decisions_per_hour: {len(decisions_per_hour)}\")\n        \n        stream_resources[stream] = resources\n        if len(decisions_per_hour) != 192:\n            print(f\"Length of resources: {len(decisions_per_hour)}\")\n\n    print(\"---------\")\n    print(\" \")\n\n    overall_decisions_per_hour[resource.name] = stream_decisions_per_hour\n    overall_resources[resource.name] = stream_resources",
   "execution_count": 37,
   "outputs": [
    {
     "name": "stdout",
     "text": "Working on resource Dr Carling\nWorking on stream Minors with 0.5 decision(s) per hour\nWorking on friday shift\nStart time for shift: 18:00\nEnd time for shift: 2:00\nDph: [0.5, 0.5, 0.5, 0.5, 0.5, 0.5, 0.5, 0.5]\nResources: [1, 1, 1, 1, 1, 1, 1, 1]\nLength of decisions_per_hour: 193\nLength of resources: 193\n---------\n \nWorking on resource Dr Jones\nWorking on stream Resus with 1.0 decision(s) per hour\nWorking on tuesday shift\nStart time for shift: 6:00\nEnd time for shift: 16:00\nDph: [1.0, 1.0, 1.0, 1.0, 1.0, 1.0, 1.0, 1.0, 1.0, 1.0]\nResources: [1, 1, 1, 1, 1, 1, 1, 1, 1, 1]\nWorking on wednesday shift\nStart time for shift: 9:00\nEnd time for shift: 18:00\nDph: [1.0, 1.0, 1.0, 1.0, 1.0, 1.0, 1.0, 1.0, 1.0]\nResources: [1, 1, 1, 1, 1, 1, 1, 1, 1]\nWorking on saturday shift\nStart time for shift: 6:00\nEnd time for shift: 16:00\nDph: [1.0, 1.0, 1.0, 1.0, 1.0, 1.0, 1.0, 1.0, 1.0, 1.0]\nResources: [1, 1, 1, 1, 1, 1, 1, 1, 1, 1]\nLength of decisions_per_hour: 189\nLength of resources: 189\n---------\n \nWorking on resource Dr Beatty\nWorking on stream Minors with 0.5 decision(s) per hour\nWorking on thursday shift\nStart time for shift: 6:00\nEnd time for shift: 16:00\nDph: [0.5, 0.5, 0.5, 0.5, 0.5, 0.5, 0.5, 0.5, 0.5, 0.5]\nResources: [1, 1, 1, 1, 1, 1, 1, 1, 1, 1]\nWorking on friday shift\nStart time for shift: 6:00\nEnd time for shift: 16:00\nDph: [0.5, 0.5, 0.5, 0.5, 0.5, 0.5, 0.5, 0.5, 0.5, 0.5]\nResources: [1, 1, 1, 1, 1, 1, 1, 1, 1, 1]\nWorking on saturday shift\nStart time for shift: 6:00\nEnd time for shift: 16:00\nDph: [0.5, 0.5, 0.5, 0.5, 0.5, 0.5, 0.5, 0.5, 0.5, 0.5]\nResources: [1, 1, 1, 1, 1, 1, 1, 1, 1, 1]\nWorking on sunday shift\nStart time for shift: 6:00\nEnd time for shift: 16:00\nDph: [0.5, 0.5, 0.5, 0.5, 0.5, 0.5, 0.5, 0.5, 0.5, 0.5]\nResources: [1, 1, 1, 1, 1, 1, 1, 1, 1, 1]\nLength of decisions_per_hour: 188\nLength of resources: 188\n---------\n \nWorking on resource Dr Tyler\nWorking on stream Resus with 1.0 decision(s) per hour\nWorking on thursday shift\nStart time for shift: 18:00\nEnd time for shift: 2:00\nDph: [1.0, 1.0, 1.0, 1.0, 1.0, 1.0, 1.0, 1.0]\nResources: [1, 1, 1, 1, 1, 1, 1, 1]\nWorking on friday shift\nStart time for shift: 22:00\nEnd time for shift: 6:00\nDph: [1.0, 1.0, 1.0, 1.0, 1.0, 1.0, 1.0, 1.0]\nResources: [1, 1, 1, 1, 1, 1, 1, 1]\nLength of decisions_per_hour: 196\nLength of resources: 196\n---------\n \nWorking on resource Mr Monday\nWorking on stream Minors with 1.0 decision(s) per hour\nWorking on monday shift\nStart time for shift: 18:00\nEnd time for shift: 2:00\nDph: [1.0, 1.0, 1.0, 1.0, 1.0, 1.0, 1.0, 1.0]\nResources: [1, 1, 1, 1, 1, 1, 1, 1]\nLength of decisions_per_hour: 193\nLength of resources: 193\n---------\n \nWorking on resource Herr Montag\nWorking on stream Minors with 1.0 decision(s) per hour\nWorking on monday shift\nStart time for shift: 9:00\nEnd time for shift: 18:00\nDph: [1.0, 1.0, 1.0, 1.0, 1.0, 1.0, 1.0, 1.0, 1.0]\nResources: [1, 1, 1, 1, 1, 1, 1, 1, 1]\nLength of decisions_per_hour: 191\nLength of resources: 191\n---------\n \nWorking on resource Monsieur Dimanche\nWorking on stream Resus with 1.0 decision(s) per hour\nWorking on prev_week shift\nStart time for shift: 22:00\nEnd time for shift: 6:00\nDph: [1.0, 1.0, 1.0, 1.0, 1.0, 1.0, 1.0, 1.0]\nResources: [1, 1, 1, 1, 1, 1, 1, 1]\nWorking on sunday shift\nStart time for shift: 22:00\nEnd time for shift: 6:00\nDph: [1.0, 1.0, 1.0, 1.0, 1.0, 1.0, 1.0, 1.0]\nResources: [1, 1, 1, 1, 1, 1, 1, 1]\nLength of decisions_per_hour: 196\nLength of resources: 196\n---------\n \n",
     "output_type": "stream"
    }
   ]
  },
  {
   "cell_type": "markdown",
   "source": "## Calculate total available resources by role type",
   "metadata": {
    "tags": [],
    "cell_id": "00032-12099f67-032b-4ea9-be29-95757a058a79",
    "deepnote_cell_type": "markdown"
   }
  },
  {
   "cell_type": "code",
   "source": "overall_resources",
   "metadata": {
    "tags": [],
    "cell_id": "00033-071c1424-26e9-431d-87a7-b58a9d14214e",
    "deepnote_to_be_reexecuted": false,
    "source_hash": "c85a5d12",
    "execution_start": 1627508376823,
    "execution_millis": 114,
    "deepnote_cell_type": "code"
   },
   "outputs": [
    {
     "output_type": "execute_result",
     "execution_count": 33,
     "data": {
      "text/plain": "{'Dr Carling': {'Resus': [0,\n   0,\n   0,\n   0,\n   0,\n   0,\n   0,\n   0,\n   0,\n   0,\n   0,\n   0,\n   0,\n   0,\n   0,\n   0,\n   0,\n   0,\n   0,\n   0,\n   0,\n   0,\n   0,\n   0,\n   0,\n   0,\n   0,\n   0,\n   0,\n   0,\n   0,\n   0,\n   0,\n   0,\n   0,\n   0,\n   0,\n   0,\n   0,\n   0,\n   0,\n   0,\n   0,\n   0,\n   0,\n   0,\n   0,\n   0,\n   0,\n   0,\n   0,\n   0,\n   0,\n   0,\n   0,\n   0,\n   0,\n   0,\n   0,\n   0,\n   0,\n   0,\n   0,\n   0,\n   0,\n   0,\n   0,\n   0,\n   0,\n   0,\n   0,\n   0,\n   0,\n   0,\n   0,\n   0,\n   0,\n   0,\n   0,\n   0,\n   0,\n   0,\n   0,\n   0,\n   0,\n   0,\n   0,\n   0,\n   0,\n   0,\n   0,\n   0,\n   0,\n   0,\n   0,\n   0,\n   0,\n   0,\n   0,\n   0,\n   0,\n   0,\n   0,\n   0,\n   0,\n   0,\n   0,\n   0,\n   0,\n   0,\n   0,\n   0,\n   0,\n   0,\n   0,\n   0,\n   0,\n   0,\n   0,\n   0,\n   0,\n   0,\n   0,\n   0,\n   0,\n   0,\n   0,\n   0,\n   0,\n   0,\n   0,\n   0,\n   0,\n   0,\n   0,\n   0,\n   0,\n   0,\n   0,\n   0,\n   0,\n   0,\n   0,\n   0,\n   0,\n   0,\n   0,\n   0,\n   0,\n   0,\n   0,\n   0,\n   0,\n   0,\n   0,\n   0,\n   0,\n   0,\n   0,\n   0,\n   0,\n   0,\n   0,\n   0,\n   0,\n   0,\n   0,\n   0,\n   0,\n   0,\n   0,\n   0,\n   0,\n   0,\n   0,\n   0,\n   0,\n   0,\n   0,\n   0,\n   0,\n   0,\n   0,\n   0,\n   0,\n   0,\n   0,\n   0,\n   0,\n   0,\n   0,\n   0],\n  'Majors': [0,\n   0,\n   0,\n   0,\n   0,\n   0,\n   0,\n   0,\n   0,\n   0,\n   0,\n   0,\n   0,\n   0,\n   0,\n   0,\n   0,\n   0,\n   0,\n   0,\n   0,\n   0,\n   0,\n   0,\n   0,\n   0,\n   0,\n   0,\n   0,\n   0,\n   0,\n   0,\n   0,\n   0,\n   0,\n   0,\n   0,\n   0,\n   0,\n   0,\n   0,\n   0,\n   0,\n   0,\n   0,\n   0,\n   0,\n   0,\n   0,\n   0,\n   0,\n   0,\n   0,\n   0,\n   0,\n   0,\n   0,\n   0,\n   0,\n   0,\n   0,\n   0,\n   0,\n   0,\n   0,\n   0,\n   0,\n   0,\n   0,\n   0,\n   0,\n   0,\n   0,\n   0,\n   0,\n   0,\n   0,\n   0,\n   0,\n   0,\n   0,\n   0,\n   0,\n   0,\n   0,\n   0,\n   0,\n   0,\n   0,\n   0,\n   0,\n   0,\n   0,\n   0,\n   0,\n   0,\n   0,\n   0,\n   0,\n   0,\n   0,\n   0,\n   0,\n   0,\n   0,\n   0,\n   0,\n   0,\n   0,\n   0,\n   0,\n   0,\n   0,\n   0,\n   0,\n   0,\n   0,\n   0,\n   0,\n   0,\n   0,\n   0,\n   0,\n   0,\n   0,\n   0,\n   0,\n   0,\n   0,\n   0,\n   0,\n   0,\n   0,\n   0,\n   0,\n   0,\n   0,\n   0,\n   0,\n   0,\n   0,\n   0,\n   0,\n   0,\n   0,\n   0,\n   0,\n   0,\n   0,\n   0,\n   0,\n   0,\n   0,\n   0,\n   0,\n   0,\n   0,\n   0,\n   0,\n   0,\n   0,\n   0,\n   0,\n   0,\n   0,\n   0,\n   0,\n   0,\n   0,\n   0,\n   0,\n   0,\n   0,\n   0,\n   0,\n   0,\n   0,\n   0,\n   0,\n   0,\n   0,\n   0,\n   0,\n   0,\n   0,\n   0,\n   0,\n   0,\n   0,\n   0,\n   0,\n   0],\n  'Minors': [0,\n   0,\n   0,\n   0,\n   0,\n   0,\n   0,\n   0,\n   0,\n   0,\n   0,\n   0,\n   0,\n   0,\n   0,\n   0,\n   0,\n   0,\n   0,\n   0,\n   0,\n   0,\n   0,\n   0,\n   0,\n   0,\n   0,\n   0,\n   0,\n   0,\n   0,\n   0,\n   0,\n   0,\n   0,\n   0,\n   0,\n   0,\n   0,\n   0,\n   0,\n   0,\n   0,\n   0,\n   0,\n   0,\n   0,\n   0,\n   0,\n   0,\n   0,\n   0,\n   0,\n   0,\n   0,\n   0,\n   0,\n   0,\n   0,\n   0,\n   0,\n   0,\n   0,\n   0,\n   0,\n   0,\n   0,\n   0,\n   0,\n   0,\n   0,\n   0,\n   0,\n   0,\n   0,\n   0,\n   0,\n   0,\n   0,\n   0,\n   0,\n   0,\n   0,\n   0,\n   0,\n   0,\n   0,\n   0,\n   0,\n   0,\n   0,\n   0,\n   0,\n   0,\n   0,\n   0,\n   0,\n   0,\n   0,\n   0,\n   0,\n   0,\n   0,\n   0,\n   0,\n   0,\n   0,\n   0,\n   0,\n   0,\n   0,\n   0,\n   0,\n   0,\n   0,\n   0,\n   0,\n   0,\n   0,\n   0,\n   0,\n   0,\n   0,\n   0,\n   0,\n   0,\n   0,\n   0,\n   0,\n   0,\n   0,\n   0,\n   0,\n   0,\n   0,\n   0,\n   0,\n   1,\n   1,\n   1,\n   1,\n   1,\n   1,\n   1,\n   1,\n   0,\n   0,\n   0,\n   0,\n   0,\n   0,\n   0,\n   0,\n   0,\n   0,\n   0,\n   0,\n   0,\n   0,\n   0,\n   0,\n   0,\n   0,\n   0,\n   0,\n   0,\n   0,\n   0,\n   0,\n   0,\n   0,\n   0,\n   0,\n   0,\n   0,\n   0,\n   0,\n   0,\n   0,\n   0,\n   0,\n   0,\n   0,\n   0,\n   0,\n   0,\n   0,\n   0,\n   0,\n   0,\n   0,\n   0,\n   0]},\n 'Dr Jones': {'Resus': [0,\n   0,\n   0,\n   0,\n   0,\n   0,\n   0,\n   0,\n   0,\n   0,\n   0,\n   0,\n   0,\n   0,\n   0,\n   0,\n   0,\n   0,\n   0,\n   0,\n   0,\n   0,\n   0,\n   0,\n   0,\n   0,\n   0,\n   0,\n   0,\n   0,\n   0,\n   0,\n   0,\n   0,\n   0,\n   0,\n   0,\n   0,\n   0,\n   0,\n   0,\n   0,\n   0,\n   0,\n   0,\n   0,\n   0,\n   0,\n   0,\n   0,\n   0,\n   0,\n   0,\n   1,\n   1,\n   1,\n   1,\n   1,\n   1,\n   1,\n   1,\n   1,\n   1,\n   0,\n   0,\n   0,\n   0,\n   0,\n   0,\n   0,\n   0,\n   0,\n   0,\n   0,\n   0,\n   0,\n   0,\n   0,\n   0,\n   1,\n   1,\n   1,\n   1,\n   1,\n   1,\n   1,\n   1,\n   1,\n   0,\n   0,\n   0,\n   0,\n   0,\n   0,\n   0,\n   0,\n   0,\n   0,\n   0,\n   0,\n   0,\n   0,\n   0,\n   0,\n   0,\n   0,\n   0,\n   0,\n   0,\n   0,\n   0,\n   0,\n   0,\n   0,\n   0,\n   0,\n   0,\n   0,\n   0,\n   0,\n   0,\n   0,\n   0,\n   0,\n   0,\n   0,\n   0,\n   0,\n   0,\n   0,\n   0,\n   0,\n   0,\n   0,\n   0,\n   0,\n   0,\n   0,\n   0,\n   0,\n   0,\n   0,\n   0,\n   0,\n   0,\n   0,\n   0,\n   1,\n   1,\n   1,\n   1,\n   1,\n   1,\n   1,\n   1,\n   1,\n   1,\n   0,\n   0,\n   0,\n   0,\n   0,\n   0,\n   0,\n   0,\n   0,\n   0,\n   0,\n   0,\n   0,\n   0,\n   0,\n   0,\n   0,\n   0,\n   0,\n   0,\n   0,\n   0,\n   0,\n   0,\n   0,\n   0,\n   0,\n   0,\n   0,\n   0,\n   0,\n   0],\n  'Majors': [0,\n   0,\n   0,\n   0,\n   0,\n   0,\n   0,\n   0,\n   0,\n   0,\n   0,\n   0,\n   0,\n   0,\n   0,\n   0,\n   0,\n   0,\n   0,\n   0,\n   0,\n   0,\n   0,\n   0,\n   0,\n   0,\n   0,\n   0,\n   0,\n   0,\n   0,\n   0,\n   0,\n   0,\n   0,\n   0,\n   0,\n   0,\n   0,\n   0,\n   0,\n   0,\n   0,\n   0,\n   0,\n   0,\n   0,\n   0,\n   0,\n   0,\n   0,\n   0,\n   0,\n   0,\n   0,\n   0,\n   0,\n   0,\n   0,\n   0,\n   0,\n   0,\n   0,\n   0,\n   0,\n   0,\n   0,\n   0,\n   0,\n   0,\n   0,\n   0,\n   0,\n   0,\n   0,\n   0,\n   0,\n   0,\n   0,\n   0,\n   0,\n   0,\n   0,\n   0,\n   0,\n   0,\n   0,\n   0,\n   0,\n   0,\n   0,\n   0,\n   0,\n   0,\n   0,\n   0,\n   0,\n   0,\n   0,\n   0,\n   0,\n   0,\n   0,\n   0,\n   0,\n   0,\n   0,\n   0,\n   0,\n   0,\n   0,\n   0,\n   0,\n   0,\n   0,\n   0,\n   0,\n   0,\n   0,\n   0,\n   0,\n   0,\n   0,\n   0,\n   0,\n   0,\n   0,\n   0,\n   0,\n   0,\n   0,\n   0,\n   0,\n   0,\n   0,\n   0,\n   0,\n   0,\n   0,\n   0,\n   0,\n   0,\n   0,\n   0,\n   0,\n   0,\n   0,\n   0,\n   0,\n   0,\n   0,\n   0,\n   0,\n   0,\n   0,\n   0,\n   0,\n   0,\n   0,\n   0,\n   0,\n   0,\n   0,\n   0,\n   0,\n   0,\n   0,\n   0,\n   0,\n   0,\n   0,\n   0,\n   0,\n   0,\n   0,\n   0,\n   0,\n   0,\n   0,\n   0,\n   0,\n   0,\n   0,\n   0,\n   0,\n   0,\n   0,\n   0,\n   0,\n   0,\n   0,\n   0],\n  'Minors': [0,\n   0,\n   0,\n   0,\n   0,\n   0,\n   0,\n   0,\n   0,\n   0,\n   0,\n   0,\n   0,\n   0,\n   0,\n   0,\n   0,\n   0,\n   0,\n   0,\n   0,\n   0,\n   0,\n   0,\n   0,\n   0,\n   0,\n   0,\n   0,\n   0,\n   0,\n   0,\n   0,\n   0,\n   0,\n   0,\n   0,\n   0,\n   0,\n   0,\n   0,\n   0,\n   0,\n   0,\n   0,\n   0,\n   0,\n   0,\n   0,\n   0,\n   0,\n   0,\n   0,\n   0,\n   0,\n   0,\n   0,\n   0,\n   0,\n   0,\n   0,\n   0,\n   0,\n   0,\n   0,\n   0,\n   0,\n   0,\n   0,\n   0,\n   0,\n   0,\n   0,\n   0,\n   0,\n   0,\n   0,\n   0,\n   0,\n   0,\n   0,\n   0,\n   0,\n   0,\n   0,\n   0,\n   0,\n   0,\n   0,\n   0,\n   0,\n   0,\n   0,\n   0,\n   0,\n   0,\n   0,\n   0,\n   0,\n   0,\n   0,\n   0,\n   0,\n   0,\n   0,\n   0,\n   0,\n   0,\n   0,\n   0,\n   0,\n   0,\n   0,\n   0,\n   0,\n   0,\n   0,\n   0,\n   0,\n   0,\n   0,\n   0,\n   0,\n   0,\n   0,\n   0,\n   0,\n   0,\n   0,\n   0,\n   0,\n   0,\n   0,\n   0,\n   0,\n   0,\n   0,\n   0,\n   0,\n   0,\n   0,\n   0,\n   0,\n   0,\n   0,\n   0,\n   0,\n   0,\n   0,\n   0,\n   0,\n   0,\n   0,\n   0,\n   0,\n   0,\n   0,\n   0,\n   0,\n   0,\n   0,\n   0,\n   0,\n   0,\n   0,\n   0,\n   0,\n   0,\n   0,\n   0,\n   0,\n   0,\n   0,\n   0,\n   0,\n   0,\n   0,\n   0,\n   0,\n   0,\n   0,\n   0,\n   0,\n   0,\n   0,\n   0,\n   0,\n   0,\n   0,\n   0,\n   0,\n   0]},\n 'Dr Beatty': {'Resus': [0,\n   0,\n   0,\n   0,\n   0,\n   0,\n   0,\n   0,\n   0,\n   0,\n   0,\n   0,\n   0,\n   0,\n   0,\n   0,\n   0,\n   0,\n   0,\n   0,\n   0,\n   0,\n   0,\n   0,\n   0,\n   0,\n   0,\n   0,\n   0,\n   0,\n   0,\n   0,\n   0,\n   0,\n   0,\n   0,\n   0,\n   0,\n   0,\n   0,\n   0,\n   0,\n   0,\n   0,\n   0,\n   0,\n   0,\n   0,\n   0,\n   0,\n   0,\n   0,\n   0,\n   0,\n   0,\n   0,\n   0,\n   0,\n   0,\n   0,\n   0,\n   0,\n   0,\n   0,\n   0,\n   0,\n   0,\n   0,\n   0,\n   0,\n   0,\n   0,\n   0,\n   0,\n   0,\n   0,\n   0,\n   0,\n   0,\n   0,\n   0,\n   0,\n   0,\n   0,\n   0,\n   0,\n   0,\n   0,\n   0,\n   0,\n   0,\n   0,\n   0,\n   0,\n   0,\n   0,\n   0,\n   0,\n   0,\n   0,\n   0,\n   0,\n   0,\n   0,\n   0,\n   0,\n   0,\n   0,\n   0,\n   0,\n   0,\n   0,\n   0,\n   0,\n   0,\n   0,\n   0,\n   0,\n   0,\n   0,\n   0,\n   0,\n   0,\n   0,\n   0,\n   0,\n   0,\n   0,\n   0,\n   0,\n   0,\n   0,\n   0,\n   0,\n   0,\n   0,\n   0,\n   0,\n   0,\n   0,\n   0,\n   0,\n   0,\n   0,\n   0,\n   0,\n   0,\n   0,\n   0,\n   0,\n   0,\n   0,\n   0,\n   0,\n   0,\n   0,\n   0,\n   0,\n   0,\n   0,\n   0,\n   0,\n   0,\n   0,\n   0,\n   0,\n   0,\n   0,\n   0,\n   0,\n   0,\n   0,\n   0,\n   0,\n   0,\n   0,\n   0,\n   0,\n   0,\n   0,\n   0,\n   0,\n   0,\n   0,\n   0,\n   0,\n   0,\n   0,\n   0,\n   0,\n   0,\n   0],\n  'Majors': [0,\n   0,\n   0,\n   0,\n   0,\n   0,\n   0,\n   0,\n   0,\n   0,\n   0,\n   0,\n   0,\n   0,\n   0,\n   0,\n   0,\n   0,\n   0,\n   0,\n   0,\n   0,\n   0,\n   0,\n   0,\n   0,\n   0,\n   0,\n   0,\n   0,\n   0,\n   0,\n   0,\n   0,\n   0,\n   0,\n   0,\n   0,\n   0,\n   0,\n   0,\n   0,\n   0,\n   0,\n   0,\n   0,\n   0,\n   0,\n   0,\n   0,\n   0,\n   0,\n   0,\n   0,\n   0,\n   0,\n   0,\n   0,\n   0,\n   0,\n   0,\n   0,\n   0,\n   0,\n   0,\n   0,\n   0,\n   0,\n   0,\n   0,\n   0,\n   0,\n   0,\n   0,\n   0,\n   0,\n   0,\n   0,\n   0,\n   0,\n   0,\n   0,\n   0,\n   0,\n   0,\n   0,\n   0,\n   0,\n   0,\n   0,\n   0,\n   0,\n   0,\n   0,\n   0,\n   0,\n   0,\n   0,\n   0,\n   0,\n   0,\n   0,\n   0,\n   0,\n   0,\n   0,\n   0,\n   0,\n   0,\n   0,\n   0,\n   0,\n   0,\n   0,\n   0,\n   0,\n   0,\n   0,\n   0,\n   0,\n   0,\n   0,\n   0,\n   0,\n   0,\n   0,\n   0,\n   0,\n   0,\n   0,\n   0,\n   0,\n   0,\n   0,\n   0,\n   0,\n   0,\n   0,\n   0,\n   0,\n   0,\n   0,\n   0,\n   0,\n   0,\n   0,\n   0,\n   0,\n   0,\n   0,\n   0,\n   0,\n   0,\n   0,\n   0,\n   0,\n   0,\n   0,\n   0,\n   0,\n   0,\n   0,\n   0,\n   0,\n   0,\n   0,\n   0,\n   0,\n   0,\n   0,\n   0,\n   0,\n   0,\n   0,\n   0,\n   0,\n   0,\n   0,\n   0,\n   0,\n   0,\n   0,\n   0,\n   0,\n   0,\n   0,\n   0,\n   0,\n   0,\n   0,\n   0,\n   0],\n  'Minors': [0,\n   0,\n   0,\n   0,\n   0,\n   0,\n   0,\n   0,\n   0,\n   0,\n   0,\n   0,\n   0,\n   0,\n   0,\n   0,\n   0,\n   0,\n   0,\n   0,\n   0,\n   0,\n   0,\n   0,\n   0,\n   0,\n   0,\n   0,\n   0,\n   0,\n   0,\n   0,\n   0,\n   0,\n   0,\n   0,\n   0,\n   0,\n   0,\n   0,\n   0,\n   0,\n   0,\n   0,\n   0,\n   0,\n   0,\n   0,\n   0,\n   0,\n   0,\n   0,\n   0,\n   0,\n   0,\n   0,\n   0,\n   0,\n   0,\n   0,\n   0,\n   0,\n   0,\n   0,\n   0,\n   0,\n   0,\n   0,\n   0,\n   0,\n   0,\n   0,\n   0,\n   0,\n   0,\n   0,\n   0,\n   0,\n   0,\n   0,\n   0,\n   0,\n   0,\n   0,\n   0,\n   0,\n   0,\n   0,\n   0,\n   0,\n   0,\n   0,\n   0,\n   0,\n   0,\n   0,\n   0,\n   0,\n   0,\n   0,\n   0,\n   1,\n   1,\n   1,\n   1,\n   1,\n   1,\n   1,\n   1,\n   1,\n   1,\n   0,\n   0,\n   0,\n   0,\n   0,\n   0,\n   0,\n   0,\n   0,\n   0,\n   0,\n   0,\n   0,\n   1,\n   1,\n   1,\n   1,\n   1,\n   1,\n   1,\n   1,\n   1,\n   1,\n   0,\n   0,\n   0,\n   0,\n   0,\n   0,\n   0,\n   0,\n   0,\n   0,\n   0,\n   0,\n   0,\n   1,\n   1,\n   1,\n   1,\n   1,\n   1,\n   1,\n   1,\n   1,\n   1,\n   0,\n   0,\n   0,\n   0,\n   0,\n   0,\n   0,\n   0,\n   0,\n   0,\n   0,\n   0,\n   0,\n   1,\n   1,\n   1,\n   1,\n   1,\n   1,\n   1,\n   1,\n   1,\n   1,\n   0,\n   0,\n   0,\n   0,\n   0,\n   0,\n   0,\n   0]},\n 'Dr Tyler': {'Resus': [0,\n   0,\n   0,\n   0,\n   0,\n   0,\n   0,\n   0,\n   0,\n   0,\n   0,\n   0,\n   0,\n   0,\n   0,\n   0,\n   0,\n   0,\n   0,\n   0,\n   0,\n   0,\n   0,\n   0,\n   0,\n   0,\n   0,\n   0,\n   0,\n   0,\n   0,\n   0,\n   0,\n   0,\n   0,\n   0,\n   0,\n   0,\n   0,\n   0,\n   0,\n   0,\n   0,\n   0,\n   0,\n   0,\n   0,\n   0,\n   0,\n   0,\n   0,\n   0,\n   0,\n   0,\n   0,\n   0,\n   0,\n   0,\n   0,\n   0,\n   0,\n   0,\n   0,\n   0,\n   0,\n   0,\n   0,\n   0,\n   0,\n   0,\n   0,\n   0,\n   0,\n   0,\n   0,\n   0,\n   0,\n   0,\n   0,\n   0,\n   0,\n   0,\n   0,\n   0,\n   0,\n   0,\n   0,\n   0,\n   0,\n   0,\n   0,\n   0,\n   0,\n   0,\n   0,\n   0,\n   0,\n   0,\n   0,\n   0,\n   0,\n   0,\n   0,\n   0,\n   0,\n   0,\n   0,\n   0,\n   0,\n   0,\n   0,\n   0,\n   0,\n   1,\n   1,\n   1,\n   1,\n   1,\n   1,\n   1,\n   1,\n   0,\n   0,\n   0,\n   0,\n   0,\n   0,\n   0,\n   0,\n   0,\n   0,\n   0,\n   0,\n   0,\n   0,\n   0,\n   0,\n   0,\n   0,\n   0,\n   1,\n   1,\n   1,\n   1,\n   1,\n   1,\n   1,\n   1,\n   0,\n   0,\n   0,\n   0,\n   0,\n   0,\n   0,\n   0,\n   0,\n   0,\n   0,\n   0,\n   0,\n   0,\n   0,\n   0,\n   0,\n   0,\n   0,\n   0,\n   0,\n   0,\n   0,\n   0,\n   0,\n   0,\n   0,\n   0,\n   0,\n   0,\n   0,\n   0,\n   0,\n   0,\n   0,\n   0,\n   0,\n   0,\n   0,\n   0,\n   0,\n   0,\n   0,\n   0,\n   0,\n   0,\n   0,\n   0],\n  'Majors': [0,\n   0,\n   0,\n   0,\n   0,\n   0,\n   0,\n   0,\n   0,\n   0,\n   0,\n   0,\n   0,\n   0,\n   0,\n   0,\n   0,\n   0,\n   0,\n   0,\n   0,\n   0,\n   0,\n   0,\n   0,\n   0,\n   0,\n   0,\n   0,\n   0,\n   0,\n   0,\n   0,\n   0,\n   0,\n   0,\n   0,\n   0,\n   0,\n   0,\n   0,\n   0,\n   0,\n   0,\n   0,\n   0,\n   0,\n   0,\n   0,\n   0,\n   0,\n   0,\n   0,\n   0,\n   0,\n   0,\n   0,\n   0,\n   0,\n   0,\n   0,\n   0,\n   0,\n   0,\n   0,\n   0,\n   0,\n   0,\n   0,\n   0,\n   0,\n   0,\n   0,\n   0,\n   0,\n   0,\n   0,\n   0,\n   0,\n   0,\n   0,\n   0,\n   0,\n   0,\n   0,\n   0,\n   0,\n   0,\n   0,\n   0,\n   0,\n   0,\n   0,\n   0,\n   0,\n   0,\n   0,\n   0,\n   0,\n   0,\n   0,\n   0,\n   0,\n   0,\n   0,\n   0,\n   0,\n   0,\n   0,\n   0,\n   0,\n   0,\n   0,\n   0,\n   0,\n   0,\n   0,\n   0,\n   0,\n   0,\n   0,\n   0,\n   0,\n   0,\n   0,\n   0,\n   0,\n   0,\n   0,\n   0,\n   0,\n   0,\n   0,\n   0,\n   0,\n   0,\n   0,\n   0,\n   0,\n   0,\n   0,\n   0,\n   0,\n   0,\n   0,\n   0,\n   0,\n   0,\n   0,\n   0,\n   0,\n   0,\n   0,\n   0,\n   0,\n   0,\n   0,\n   0,\n   0,\n   0,\n   0,\n   0,\n   0,\n   0,\n   0,\n   0,\n   0,\n   0,\n   0,\n   0,\n   0,\n   0,\n   0,\n   0,\n   0,\n   0,\n   0,\n   0,\n   0,\n   0,\n   0,\n   0,\n   0,\n   0,\n   0,\n   0,\n   0,\n   0,\n   0,\n   0,\n   0,\n   0],\n  'Minors': [0,\n   0,\n   0,\n   0,\n   0,\n   0,\n   0,\n   0,\n   0,\n   0,\n   0,\n   0,\n   0,\n   0,\n   0,\n   0,\n   0,\n   0,\n   0,\n   0,\n   0,\n   0,\n   0,\n   0,\n   0,\n   0,\n   0,\n   0,\n   0,\n   0,\n   0,\n   0,\n   0,\n   0,\n   0,\n   0,\n   0,\n   0,\n   0,\n   0,\n   0,\n   0,\n   0,\n   0,\n   0,\n   0,\n   0,\n   0,\n   0,\n   0,\n   0,\n   0,\n   0,\n   0,\n   0,\n   0,\n   0,\n   0,\n   0,\n   0,\n   0,\n   0,\n   0,\n   0,\n   0,\n   0,\n   0,\n   0,\n   0,\n   0,\n   0,\n   0,\n   0,\n   0,\n   0,\n   0,\n   0,\n   0,\n   0,\n   0,\n   0,\n   0,\n   0,\n   0,\n   0,\n   0,\n   0,\n   0,\n   0,\n   0,\n   0,\n   0,\n   0,\n   0,\n   0,\n   0,\n   0,\n   0,\n   0,\n   0,\n   0,\n   0,\n   0,\n   0,\n   0,\n   0,\n   0,\n   0,\n   0,\n   0,\n   0,\n   0,\n   0,\n   0,\n   0,\n   0,\n   0,\n   0,\n   0,\n   0,\n   0,\n   0,\n   0,\n   0,\n   0,\n   0,\n   0,\n   0,\n   0,\n   0,\n   0,\n   0,\n   0,\n   0,\n   0,\n   0,\n   0,\n   0,\n   0,\n   0,\n   0,\n   0,\n   0,\n   0,\n   0,\n   0,\n   0,\n   0,\n   0,\n   0,\n   0,\n   0,\n   0,\n   0,\n   0,\n   0,\n   0,\n   0,\n   0,\n   0,\n   0,\n   0,\n   0,\n   0,\n   0,\n   0,\n   0,\n   0,\n   0,\n   0,\n   0,\n   0,\n   0,\n   0,\n   0,\n   0,\n   0,\n   0,\n   0,\n   0,\n   0,\n   0,\n   0,\n   0,\n   0,\n   0,\n   0,\n   0,\n   0,\n   0,\n   0,\n   0]},\n 'Mr Monday': {'Resus': [0,\n   0,\n   0,\n   0,\n   0,\n   0,\n   0,\n   0,\n   0,\n   0,\n   0,\n   0,\n   0,\n   0,\n   0,\n   0,\n   0,\n   0,\n   0,\n   0,\n   0,\n   0,\n   0,\n   0,\n   0,\n   0,\n   0,\n   0,\n   0,\n   0,\n   0,\n   0,\n   0,\n   0,\n   0,\n   0,\n   0,\n   0,\n   0,\n   0,\n   0,\n   0,\n   0,\n   0,\n   0,\n   0,\n   0,\n   0,\n   0,\n   0,\n   0,\n   0,\n   0,\n   0,\n   0,\n   0,\n   0,\n   0,\n   0,\n   0,\n   0,\n   0,\n   0,\n   0,\n   0,\n   0,\n   0,\n   0,\n   0,\n   0,\n   0,\n   0,\n   0,\n   0,\n   0,\n   0,\n   0,\n   0,\n   0,\n   0,\n   0,\n   0,\n   0,\n   0,\n   0,\n   0,\n   0,\n   0,\n   0,\n   0,\n   0,\n   0,\n   0,\n   0,\n   0,\n   0,\n   0,\n   0,\n   0,\n   0,\n   0,\n   0,\n   0,\n   0,\n   0,\n   0,\n   0,\n   0,\n   0,\n   0,\n   0,\n   0,\n   0,\n   0,\n   0,\n   0,\n   0,\n   0,\n   0,\n   0,\n   0,\n   0,\n   0,\n   0,\n   0,\n   0,\n   0,\n   0,\n   0,\n   0,\n   0,\n   0,\n   0,\n   0,\n   0,\n   0,\n   0,\n   0,\n   0,\n   0,\n   0,\n   0,\n   0,\n   0,\n   0,\n   0,\n   0,\n   0,\n   0,\n   0,\n   0,\n   0,\n   0,\n   0,\n   0,\n   0,\n   0,\n   0,\n   0,\n   0,\n   0,\n   0,\n   0,\n   0,\n   0,\n   0,\n   0,\n   0,\n   0,\n   0,\n   0,\n   0,\n   0,\n   0,\n   0,\n   0,\n   0,\n   0,\n   0,\n   0,\n   0,\n   0,\n   0,\n   0,\n   0,\n   0,\n   0,\n   0,\n   0,\n   0,\n   0,\n   0],\n  'Majors': [0,\n   0,\n   0,\n   0,\n   0,\n   0,\n   0,\n   0,\n   0,\n   0,\n   0,\n   0,\n   0,\n   0,\n   0,\n   0,\n   0,\n   0,\n   0,\n   0,\n   0,\n   0,\n   0,\n   0,\n   0,\n   0,\n   0,\n   0,\n   0,\n   0,\n   0,\n   0,\n   0,\n   0,\n   0,\n   0,\n   0,\n   0,\n   0,\n   0,\n   0,\n   0,\n   0,\n   0,\n   0,\n   0,\n   0,\n   0,\n   0,\n   0,\n   0,\n   0,\n   0,\n   0,\n   0,\n   0,\n   0,\n   0,\n   0,\n   0,\n   0,\n   0,\n   0,\n   0,\n   0,\n   0,\n   0,\n   0,\n   0,\n   0,\n   0,\n   0,\n   0,\n   0,\n   0,\n   0,\n   0,\n   0,\n   0,\n   0,\n   0,\n   0,\n   0,\n   0,\n   0,\n   0,\n   0,\n   0,\n   0,\n   0,\n   0,\n   0,\n   0,\n   0,\n   0,\n   0,\n   0,\n   0,\n   0,\n   0,\n   0,\n   0,\n   0,\n   0,\n   0,\n   0,\n   0,\n   0,\n   0,\n   0,\n   0,\n   0,\n   0,\n   0,\n   0,\n   0,\n   0,\n   0,\n   0,\n   0,\n   0,\n   0,\n   0,\n   0,\n   0,\n   0,\n   0,\n   0,\n   0,\n   0,\n   0,\n   0,\n   0,\n   0,\n   0,\n   0,\n   0,\n   0,\n   0,\n   0,\n   0,\n   0,\n   0,\n   0,\n   0,\n   0,\n   0,\n   0,\n   0,\n   0,\n   0,\n   0,\n   0,\n   0,\n   0,\n   0,\n   0,\n   0,\n   0,\n   0,\n   0,\n   0,\n   0,\n   0,\n   0,\n   0,\n   0,\n   0,\n   0,\n   0,\n   0,\n   0,\n   0,\n   0,\n   0,\n   0,\n   0,\n   0,\n   0,\n   0,\n   0,\n   0,\n   0,\n   0,\n   0,\n   0,\n   0,\n   0,\n   0,\n   0,\n   0,\n   0],\n  'Minors': [0,\n   0,\n   0,\n   0,\n   0,\n   0,\n   0,\n   0,\n   0,\n   0,\n   0,\n   0,\n   0,\n   0,\n   0,\n   0,\n   0,\n   0,\n   0,\n   0,\n   0,\n   0,\n   0,\n   0,\n   0,\n   0,\n   0,\n   0,\n   0,\n   0,\n   0,\n   0,\n   0,\n   0,\n   0,\n   0,\n   0,\n   0,\n   0,\n   0,\n   0,\n   1,\n   1,\n   1,\n   1,\n   1,\n   1,\n   1,\n   1,\n   0,\n   0,\n   0,\n   0,\n   0,\n   0,\n   0,\n   0,\n   0,\n   0,\n   0,\n   0,\n   0,\n   0,\n   0,\n   0,\n   0,\n   0,\n   0,\n   0,\n   0,\n   0,\n   0,\n   0,\n   0,\n   0,\n   0,\n   0,\n   0,\n   0,\n   0,\n   0,\n   0,\n   0,\n   0,\n   0,\n   0,\n   0,\n   0,\n   0,\n   0,\n   0,\n   0,\n   0,\n   0,\n   0,\n   0,\n   0,\n   0,\n   0,\n   0,\n   0,\n   0,\n   0,\n   0,\n   0,\n   0,\n   0,\n   0,\n   0,\n   0,\n   0,\n   0,\n   0,\n   0,\n   0,\n   0,\n   0,\n   0,\n   0,\n   0,\n   0,\n   0,\n   0,\n   0,\n   0,\n   0,\n   0,\n   0,\n   0,\n   0,\n   0,\n   0,\n   0,\n   0,\n   0,\n   0,\n   0,\n   0,\n   0,\n   0,\n   0,\n   0,\n   0,\n   0,\n   0,\n   0,\n   0,\n   0,\n   0,\n   0,\n   0,\n   0,\n   0,\n   0,\n   0,\n   0,\n   0,\n   0,\n   0,\n   0,\n   0,\n   0,\n   0,\n   0,\n   0,\n   0,\n   0,\n   0,\n   0,\n   0,\n   0,\n   0,\n   0,\n   0,\n   0,\n   0,\n   0,\n   0,\n   0,\n   0,\n   0,\n   0,\n   0,\n   0,\n   0,\n   0,\n   0,\n   0,\n   0,\n   0,\n   0,\n   0,\n   0]},\n 'Herr Montag': {'Resus': [0,\n   0,\n   0,\n   0,\n   0,\n   0,\n   0,\n   0,\n   0,\n   0,\n   0,\n   0,\n   0,\n   0,\n   0,\n   0,\n   0,\n   0,\n   0,\n   0,\n   0,\n   0,\n   0,\n   0,\n   0,\n   0,\n   0,\n   0,\n   0,\n   0,\n   0,\n   0,\n   0,\n   0,\n   0,\n   0,\n   0,\n   0,\n   0,\n   0,\n   0,\n   0,\n   0,\n   0,\n   0,\n   0,\n   0,\n   0,\n   0,\n   0,\n   0,\n   0,\n   0,\n   0,\n   0,\n   0,\n   0,\n   0,\n   0,\n   0,\n   0,\n   0,\n   0,\n   0,\n   0,\n   0,\n   0,\n   0,\n   0,\n   0,\n   0,\n   0,\n   0,\n   0,\n   0,\n   0,\n   0,\n   0,\n   0,\n   0,\n   0,\n   0,\n   0,\n   0,\n   0,\n   0,\n   0,\n   0,\n   0,\n   0,\n   0,\n   0,\n   0,\n   0,\n   0,\n   0,\n   0,\n   0,\n   0,\n   0,\n   0,\n   0,\n   0,\n   0,\n   0,\n   0,\n   0,\n   0,\n   0,\n   0,\n   0,\n   0,\n   0,\n   0,\n   0,\n   0,\n   0,\n   0,\n   0,\n   0,\n   0,\n   0,\n   0,\n   0,\n   0,\n   0,\n   0,\n   0,\n   0,\n   0,\n   0,\n   0,\n   0,\n   0,\n   0,\n   0,\n   0,\n   0,\n   0,\n   0,\n   0,\n   0,\n   0,\n   0,\n   0,\n   0,\n   0,\n   0,\n   0,\n   0,\n   0,\n   0,\n   0,\n   0,\n   0,\n   0,\n   0,\n   0,\n   0,\n   0,\n   0,\n   0,\n   0,\n   0,\n   0,\n   0,\n   0,\n   0,\n   0,\n   0,\n   0,\n   0,\n   0,\n   0,\n   0,\n   0,\n   0,\n   0,\n   0,\n   0,\n   0,\n   0,\n   0,\n   0,\n   0,\n   0,\n   0,\n   0,\n   0,\n   0,\n   0,\n   0],\n  'Majors': [0,\n   0,\n   0,\n   0,\n   0,\n   0,\n   0,\n   0,\n   0,\n   0,\n   0,\n   0,\n   0,\n   0,\n   0,\n   0,\n   0,\n   0,\n   0,\n   0,\n   0,\n   0,\n   0,\n   0,\n   0,\n   0,\n   0,\n   0,\n   0,\n   0,\n   0,\n   0,\n   0,\n   0,\n   0,\n   0,\n   0,\n   0,\n   0,\n   0,\n   0,\n   0,\n   0,\n   0,\n   0,\n   0,\n   0,\n   0,\n   0,\n   0,\n   0,\n   0,\n   0,\n   0,\n   0,\n   0,\n   0,\n   0,\n   0,\n   0,\n   0,\n   0,\n   0,\n   0,\n   0,\n   0,\n   0,\n   0,\n   0,\n   0,\n   0,\n   0,\n   0,\n   0,\n   0,\n   0,\n   0,\n   0,\n   0,\n   0,\n   0,\n   0,\n   0,\n   0,\n   0,\n   0,\n   0,\n   0,\n   0,\n   0,\n   0,\n   0,\n   0,\n   0,\n   0,\n   0,\n   0,\n   0,\n   0,\n   0,\n   0,\n   0,\n   0,\n   0,\n   0,\n   0,\n   0,\n   0,\n   0,\n   0,\n   0,\n   0,\n   0,\n   0,\n   0,\n   0,\n   0,\n   0,\n   0,\n   0,\n   0,\n   0,\n   0,\n   0,\n   0,\n   0,\n   0,\n   0,\n   0,\n   0,\n   0,\n   0,\n   0,\n   0,\n   0,\n   0,\n   0,\n   0,\n   0,\n   0,\n   0,\n   0,\n   0,\n   0,\n   0,\n   0,\n   0,\n   0,\n   0,\n   0,\n   0,\n   0,\n   0,\n   0,\n   0,\n   0,\n   0,\n   0,\n   0,\n   0,\n   0,\n   0,\n   0,\n   0,\n   0,\n   0,\n   0,\n   0,\n   0,\n   0,\n   0,\n   0,\n   0,\n   0,\n   0,\n   0,\n   0,\n   0,\n   0,\n   0,\n   0,\n   0,\n   0,\n   0,\n   0,\n   0,\n   0,\n   0,\n   0,\n   0,\n   0,\n   0],\n  'Minors': [0,\n   0,\n   0,\n   0,\n   0,\n   0,\n   0,\n   0,\n   0,\n   0,\n   0,\n   0,\n   0,\n   0,\n   0,\n   0,\n   0,\n   0,\n   0,\n   0,\n   0,\n   0,\n   0,\n   0,\n   0,\n   0,\n   0,\n   0,\n   0,\n   0,\n   0,\n   0,\n   1,\n   1,\n   1,\n   1,\n   1,\n   1,\n   1,\n   1,\n   1,\n   0,\n   0,\n   0,\n   0,\n   0,\n   0,\n   0,\n   0,\n   0,\n   0,\n   0,\n   0,\n   0,\n   0,\n   0,\n   0,\n   0,\n   0,\n   0,\n   0,\n   0,\n   0,\n   0,\n   0,\n   0,\n   0,\n   0,\n   0,\n   0,\n   0,\n   0,\n   0,\n   0,\n   0,\n   0,\n   0,\n   0,\n   0,\n   0,\n   0,\n   0,\n   0,\n   0,\n   0,\n   0,\n   0,\n   0,\n   0,\n   0,\n   0,\n   0,\n   0,\n   0,\n   0,\n   0,\n   0,\n   0,\n   0,\n   0,\n   0,\n   0,\n   0,\n   0,\n   0,\n   0,\n   0,\n   0,\n   0,\n   0,\n   0,\n   0,\n   0,\n   0,\n   0,\n   0,\n   0,\n   0,\n   0,\n   0,\n   0,\n   0,\n   0,\n   0,\n   0,\n   0,\n   0,\n   0,\n   0,\n   0,\n   0,\n   0,\n   0,\n   0,\n   0,\n   0,\n   0,\n   0,\n   0,\n   0,\n   0,\n   0,\n   0,\n   0,\n   0,\n   0,\n   0,\n   0,\n   0,\n   0,\n   0,\n   0,\n   0,\n   0,\n   0,\n   0,\n   0,\n   0,\n   0,\n   0,\n   0,\n   0,\n   0,\n   0,\n   0,\n   0,\n   0,\n   0,\n   0,\n   0,\n   0,\n   0,\n   0,\n   0,\n   0,\n   0,\n   0,\n   0,\n   0,\n   0,\n   0,\n   0,\n   0,\n   0,\n   0,\n   0,\n   0,\n   0,\n   0,\n   0,\n   0]},\n 'Monsieur Dimanche': {'Resus': [0,\n   0,\n   0,\n   0,\n   0,\n   0,\n   0,\n   0,\n   0,\n   0,\n   0,\n   0,\n   0,\n   0,\n   0,\n   0,\n   0,\n   0,\n   0,\n   0,\n   0,\n   1,\n   1,\n   1,\n   1,\n   1,\n   1,\n   1,\n   1,\n   0,\n   0,\n   0,\n   0,\n   0,\n   0,\n   0,\n   0,\n   0,\n   0,\n   0,\n   0,\n   0,\n   0,\n   0,\n   0,\n   0,\n   0,\n   0,\n   0,\n   0,\n   0,\n   0,\n   0,\n   0,\n   0,\n   0,\n   0,\n   0,\n   0,\n   0,\n   0,\n   0,\n   0,\n   0,\n   0,\n   0,\n   0,\n   0,\n   0,\n   0,\n   0,\n   0,\n   0,\n   0,\n   0,\n   0,\n   0,\n   0,\n   0,\n   0,\n   0,\n   0,\n   0,\n   0,\n   0,\n   0,\n   0,\n   0,\n   0,\n   0,\n   0,\n   0,\n   0,\n   0,\n   0,\n   0,\n   0,\n   0,\n   0,\n   0,\n   0,\n   0,\n   0,\n   0,\n   0,\n   0,\n   0,\n   0,\n   0,\n   0,\n   0,\n   0,\n   0,\n   0,\n   0,\n   0,\n   0,\n   0,\n   0,\n   0,\n   0,\n   0,\n   0,\n   0,\n   0,\n   0,\n   0,\n   0,\n   0,\n   0,\n   0,\n   0,\n   0,\n   0,\n   0,\n   0,\n   0,\n   0,\n   0,\n   0,\n   0,\n   0,\n   0,\n   0,\n   0,\n   0,\n   0,\n   0,\n   0,\n   0,\n   0,\n   0,\n   0,\n   0,\n   0,\n   0,\n   0,\n   0,\n   0,\n   0,\n   0,\n   0,\n   0,\n   0,\n   0,\n   0,\n   0,\n   0,\n   0,\n   0,\n   0,\n   0,\n   0,\n   0,\n   0,\n   0,\n   0,\n   0,\n   0,\n   0,\n   0,\n   0,\n   0,\n   0,\n   0,\n   0,\n   0,\n   0,\n   1,\n   1,\n   1,\n   1,\n   1,\n   1,\n   1,\n   1],\n  'Majors': [0,\n   0,\n   0,\n   0,\n   0,\n   0,\n   0,\n   0,\n   0,\n   0,\n   0,\n   0,\n   0,\n   0,\n   0,\n   0,\n   0,\n   0,\n   0,\n   0,\n   0,\n   0,\n   0,\n   0,\n   0,\n   0,\n   0,\n   0,\n   0,\n   0,\n   0,\n   0,\n   0,\n   0,\n   0,\n   0,\n   0,\n   0,\n   0,\n   0,\n   0,\n   0,\n   0,\n   0,\n   0,\n   0,\n   0,\n   0,\n   0,\n   0,\n   0,\n   0,\n   0,\n   0,\n   0,\n   0,\n   0,\n   0,\n   0,\n   0,\n   0,\n   0,\n   0,\n   0,\n   0,\n   0,\n   0,\n   0,\n   0,\n   0,\n   0,\n   0,\n   0,\n   0,\n   0,\n   0,\n   0,\n   0,\n   0,\n   0,\n   0,\n   0,\n   0,\n   0,\n   0,\n   0,\n   0,\n   0,\n   0,\n   0,\n   0,\n   0,\n   0,\n   0,\n   0,\n   0,\n   0,\n   0,\n   0,\n   0,\n   0,\n   0,\n   0,\n   0,\n   0,\n   0,\n   0,\n   0,\n   0,\n   0,\n   0,\n   0,\n   0,\n   0,\n   0,\n   0,\n   0,\n   0,\n   0,\n   0,\n   0,\n   0,\n   0,\n   0,\n   0,\n   0,\n   0,\n   0,\n   0,\n   0,\n   0,\n   0,\n   0,\n   0,\n   0,\n   0,\n   0,\n   0,\n   0,\n   0,\n   0,\n   0,\n   0,\n   0,\n   0,\n   0,\n   0,\n   0,\n   0,\n   0,\n   0,\n   0,\n   0,\n   0,\n   0,\n   0,\n   0,\n   0,\n   0,\n   0,\n   0,\n   0,\n   0,\n   0,\n   0,\n   0,\n   0,\n   0,\n   0,\n   0,\n   0,\n   0,\n   0,\n   0,\n   0,\n   0,\n   0,\n   0,\n   0,\n   0,\n   0,\n   0,\n   0,\n   0,\n   0,\n   0,\n   0,\n   0,\n   0,\n   0,\n   0,\n   0],\n  'Minors': [0,\n   0,\n   0,\n   0,\n   0,\n   0,\n   0,\n   0,\n   0,\n   0,\n   0,\n   0,\n   0,\n   0,\n   0,\n   0,\n   0,\n   0,\n   0,\n   0,\n   0,\n   0,\n   0,\n   0,\n   0,\n   0,\n   0,\n   0,\n   0,\n   0,\n   0,\n   0,\n   0,\n   0,\n   0,\n   0,\n   0,\n   0,\n   0,\n   0,\n   0,\n   0,\n   0,\n   0,\n   0,\n   0,\n   0,\n   0,\n   0,\n   0,\n   0,\n   0,\n   0,\n   0,\n   0,\n   0,\n   0,\n   0,\n   0,\n   0,\n   0,\n   0,\n   0,\n   0,\n   0,\n   0,\n   0,\n   0,\n   0,\n   0,\n   0,\n   0,\n   0,\n   0,\n   0,\n   0,\n   0,\n   0,\n   0,\n   0,\n   0,\n   0,\n   0,\n   0,\n   0,\n   0,\n   0,\n   0,\n   0,\n   0,\n   0,\n   0,\n   0,\n   0,\n   0,\n   0,\n   0,\n   0,\n   0,\n   0,\n   0,\n   0,\n   0,\n   0,\n   0,\n   0,\n   0,\n   0,\n   0,\n   0,\n   0,\n   0,\n   0,\n   0,\n   0,\n   0,\n   0,\n   0,\n   0,\n   0,\n   0,\n   0,\n   0,\n   0,\n   0,\n   0,\n   0,\n   0,\n   0,\n   0,\n   0,\n   0,\n   0,\n   0,\n   0,\n   0,\n   0,\n   0,\n   0,\n   0,\n   0,\n   0,\n   0,\n   0,\n   0,\n   0,\n   0,\n   0,\n   0,\n   0,\n   0,\n   0,\n   0,\n   0,\n   0,\n   0,\n   0,\n   0,\n   0,\n   0,\n   0,\n   0,\n   0,\n   0,\n   0,\n   0,\n   0,\n   0,\n   0,\n   0,\n   0,\n   0,\n   0,\n   0,\n   0,\n   0,\n   0,\n   0,\n   0,\n   0,\n   0,\n   0,\n   0,\n   0,\n   0,\n   0,\n   0,\n   0,\n   0,\n   0,\n   0,\n   0]}}"
     },
     "metadata": {}
    }
   ],
   "execution_count": 33
  },
  {
   "cell_type": "markdown",
   "source": "## Dealing with flexible capacity\n\nIn order of stream priority:\n- if available dedicated capacity is sufficient for forecast demand, try giving glexible capacity to the next stream down.\n- if available dedicated capacity is insufficient then give it to the next stream down in priority (that it can share with), though make sure to account for differences in decisiosn per hour for different streams by the same role.\n- if the lowest priority stream doesn't need it, then move any remaining flexible capacity back into the highest priority stream's pot. ",
   "metadata": {
    "tags": [],
    "cell_id": "00033-b8143f37-4891-4f81-ac5e-509ea31a2f59",
    "deepnote_cell_type": "markdown"
   }
  },
  {
   "cell_type": "code",
   "metadata": {
    "tags": [],
    "cell_id": "00034-730ba60f-4c16-4b1c-8999-832d353c104d",
    "deepnote_to_be_reexecuted": false,
    "source_hash": "b623e53d",
    "execution_start": 1627508183911,
    "execution_millis": 1,
    "deepnote_cell_type": "code"
   },
   "source": "",
   "execution_count": 26,
   "outputs": []
  },
  {
   "cell_type": "markdown",
   "source": "<a style='text-decoration:none;line-height:16px;display:flex;color:#5B5B62;padding:10px;justify-content:end;' href='https://deepnote.com?utm_source=created-in-deepnote-cell&projectId=a56ed435-0fca-4e33-b393-07cccaf98df7' target=\"_blank\">\n<img alt='Created in deepnote.com' style='display:inline;max-height:16px;margin:0px;margin-right:7.5px;' src='data:image/svg+xml;base64,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' > </img>\nCreated in <span style='font-weight:600;margin-left:4px;'>Deepnote</span></a>",
   "metadata": {
    "tags": [],
    "created_in_deepnote_cell": true,
    "deepnote_cell_type": "markdown"
   }
  }
 ],
 "nbformat": 4,
 "nbformat_minor": 2,
 "metadata": {
  "orig_nbformat": 2,
  "deepnote": {
   "is_reactive": false
  },
  "deepnote_notebook_id": "ac04cca4-2830-48fb-9ddd-0c6ccfd2dc45",
  "deepnote_execution_queue": []
 }
}